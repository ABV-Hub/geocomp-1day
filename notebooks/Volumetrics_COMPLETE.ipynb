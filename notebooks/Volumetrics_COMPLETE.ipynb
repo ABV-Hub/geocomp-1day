{
 "cells": [
  {
   "cell_type": "markdown",
   "metadata": {},
   "source": [
    "# Volumetrics: HCIP calculation\n",
    "\n",
    "We'll implement the volumetric equation:\n",
    "\n",
    "$$ V = A \\times T \\times G \\times \\phi \\times N\\!\\!:\\!\\!G \\times S_\\mathrm{O} \\times \\frac{1}{B_\\mathrm{O}} $$\n",
    "\n",
    "## Gross rock volume \n",
    "\n",
    "$$ \\mathrm{GRV} = A \\times T $$"
   ]
  },
  {
   "cell_type": "code",
   "execution_count": 1,
   "metadata": {},
   "outputs": [
    {
     "data": {
      "text/plain": [
       "48000000000"
      ]
     },
     "execution_count": 1,
     "metadata": {},
     "output_type": "execute_result"
    }
   ],
   "source": [
    "thick = 80            # metres\n",
    "area = 20000 * 30000  # metres\n",
    "\n",
    "grv = thick * area\n",
    "grv"
   ]
  },
  {
   "cell_type": "markdown",
   "metadata": {},
   "source": [
    "Let's make a **function** that computes the GRV:"
   ]
  },
  {
   "cell_type": "code",
   "execution_count": 2,
   "metadata": {},
   "outputs": [],
   "source": [
    "def calculate_grv(thickness, area):\n",
    "    return thickness * area"
   ]
  },
  {
   "cell_type": "markdown",
   "metadata": {},
   "source": [
    "Now we can just call this function, instead of remembering the equation. (Admittedly, the equation is rather easy to remember in this case!)"
   ]
  },
  {
   "cell_type": "code",
   "execution_count": 3,
   "metadata": {},
   "outputs": [
    {
     "data": {
      "text/plain": [
       "48000000000"
      ]
     },
     "execution_count": 3,
     "metadata": {},
     "output_type": "execute_result"
    }
   ],
   "source": [
    "calculate_grv(thick, area)"
   ]
  },
  {
   "cell_type": "markdown",
   "metadata": {},
   "source": [
    "It works!\n",
    "\n",
    "Now we need to compensate for the prospect not being a flat slab of rock &mdash; using the geometric factor. \n",
    "\n",
    "We will implement the equations implied by this diagram:"
   ]
  },
  {
   "cell_type": "markdown",
   "metadata": {
    "scrolled": true
   },
   "source": [
    "<img src=\"http://subsurfwiki.org/images/6/66/Geometric_correction_factor.png\", width=600>"
   ]
  },
  {
   "cell_type": "code",
   "execution_count": 6,
   "metadata": {},
   "outputs": [
    {
     "name": "stdout",
     "output_type": "stream",
     "text": [
      "What shape is the prospect? slab\n"
     ]
    }
   ],
   "source": [
    "top = input(\"What shape is the prospect? \")"
   ]
  },
  {
   "cell_type": "code",
   "execution_count": 7,
   "metadata": {},
   "outputs": [
    {
     "data": {
      "text/plain": [
       "1"
      ]
     },
     "execution_count": 7,
     "metadata": {},
     "output_type": "execute_result"
    }
   ],
   "source": [
    "height = 100\n",
    "ratio = thick / height\n",
    "\n",
    "if top == 'round':\n",
    "    g = -0.6 * ratio + 1\n",
    "\n",
    "if top == 'flat':\n",
    "    g = -0.3 * ratio + 1\n",
    "\n",
    "if top == 'slab':\n",
    "    g = 1\n",
    "\n",
    "g"
   ]
  },
  {
   "cell_type": "code",
   "execution_count": 8,
   "metadata": {},
   "outputs": [
    {
     "data": {
      "text/plain": [
       "1"
      ]
     },
     "execution_count": 8,
     "metadata": {},
     "output_type": "execute_result"
    }
   ],
   "source": [
    "height = 100\n",
    "ratio = thick / height\n",
    "\n",
    "if top == 'round':\n",
    "    g = -0.6 * ratio + 1\n",
    "elif top == 'flat':\n",
    "    g = -0.3 * ratio + 1\n",
    "else:\n",
    "    g = 1\n",
    "\n",
    "g"
   ]
  },
  {
   "cell_type": "markdown",
   "metadata": {},
   "source": [
    "Let's turn this one into a function too. It's a little trickier:"
   ]
  },
  {
   "cell_type": "code",
   "execution_count": 9,
   "metadata": {},
   "outputs": [],
   "source": [
    "def geometric_factor(thick, height, top='slab'):\n",
    "\n",
    "    ratio = thick / height\n",
    "\n",
    "    if top == 'round':\n",
    "        g = -0.6 * ratio + 1\n",
    "    elif top == 'flat':\n",
    "        g = -0.3 * ratio + 1\n",
    "    else:\n",
    "        g = 1\n",
    "\n",
    "    return g"
   ]
  },
  {
   "cell_type": "code",
   "execution_count": 10,
   "metadata": {},
   "outputs": [
    {
     "data": {
      "text/plain": [
       "0.52"
      ]
     },
     "execution_count": 10,
     "metadata": {},
     "output_type": "execute_result"
    }
   ],
   "source": [
    "geometric_factor(thick, height=100, top='round')"
   ]
  },
  {
   "cell_type": "code",
   "execution_count": 11,
   "metadata": {},
   "outputs": [],
   "source": [
    "grv *= g"
   ]
  },
  {
   "cell_type": "markdown",
   "metadata": {
    "tags": [
     "hide"
    ]
   },
   "source": [
    "What if we have multiple prospects?\n",
    "\n",
    "Let's try passing lists to our function:"
   ]
  },
  {
   "cell_type": "code",
   "execution_count": 56,
   "metadata": {
    "tags": [
     "hide"
    ]
   },
   "outputs": [
    {
     "ename": "TypeError",
     "evalue": "unsupported operand type(s) for /: 'list' and 'list'",
     "output_type": "error",
     "traceback": [
      "\u001b[0;31m---------------------------------------------------------------------------\u001b[0m",
      "\u001b[0;31mTypeError\u001b[0m                                 Traceback (most recent call last)",
      "\u001b[0;32m<ipython-input-56-5a0b7b0ba277>\u001b[0m in \u001b[0;36m<module>\u001b[0;34m()\u001b[0m\n\u001b[1;32m      2\u001b[0m \u001b[0mheights\u001b[0m \u001b[0;34m=\u001b[0m \u001b[0;34m[\u001b[0m\u001b[0;36m75\u001b[0m\u001b[0;34m,\u001b[0m \u001b[0;36m100\u001b[0m\u001b[0;34m,\u001b[0m \u001b[0;36m20\u001b[0m\u001b[0;34m,\u001b[0m \u001b[0;36m100\u001b[0m\u001b[0;34m,\u001b[0m \u001b[0;36m200\u001b[0m\u001b[0;34m]\u001b[0m\u001b[0;34m\u001b[0m\u001b[0m\n\u001b[1;32m      3\u001b[0m \u001b[0;34m\u001b[0m\u001b[0m\n\u001b[0;32m----> 4\u001b[0;31m \u001b[0mgeometric_factor\u001b[0m\u001b[0;34m(\u001b[0m\u001b[0mthicknesses\u001b[0m\u001b[0;34m,\u001b[0m \u001b[0mheights\u001b[0m\u001b[0;34m,\u001b[0m \u001b[0mtop\u001b[0m\u001b[0;34m=\u001b[0m\u001b[0;34m'round'\u001b[0m\u001b[0;34m)\u001b[0m\u001b[0;34m\u001b[0m\u001b[0m\n\u001b[0m",
      "\u001b[0;32m<ipython-input-9-269d2ae53911>\u001b[0m in \u001b[0;36mgeometric_factor\u001b[0;34m(thick, height, top)\u001b[0m\n\u001b[1;32m      1\u001b[0m \u001b[0;32mdef\u001b[0m \u001b[0mgeometric_factor\u001b[0m\u001b[0;34m(\u001b[0m\u001b[0mthick\u001b[0m\u001b[0;34m,\u001b[0m \u001b[0mheight\u001b[0m\u001b[0;34m,\u001b[0m \u001b[0mtop\u001b[0m\u001b[0;34m=\u001b[0m\u001b[0;34m'slab'\u001b[0m\u001b[0;34m)\u001b[0m\u001b[0;34m:\u001b[0m\u001b[0;34m\u001b[0m\u001b[0m\n\u001b[1;32m      2\u001b[0m \u001b[0;34m\u001b[0m\u001b[0m\n\u001b[0;32m----> 3\u001b[0;31m     \u001b[0mratio\u001b[0m \u001b[0;34m=\u001b[0m \u001b[0mthick\u001b[0m \u001b[0;34m/\u001b[0m \u001b[0mheight\u001b[0m\u001b[0;34m\u001b[0m\u001b[0m\n\u001b[0m\u001b[1;32m      4\u001b[0m \u001b[0;34m\u001b[0m\u001b[0m\n\u001b[1;32m      5\u001b[0m     \u001b[0;32mif\u001b[0m \u001b[0mtop\u001b[0m \u001b[0;34m==\u001b[0m \u001b[0;34m'round'\u001b[0m\u001b[0;34m:\u001b[0m\u001b[0;34m\u001b[0m\u001b[0m\n",
      "\u001b[0;31mTypeError\u001b[0m: unsupported operand type(s) for /: 'list' and 'list'"
     ]
    }
   ],
   "source": [
    "thicknesses = [10, 25, 15, 5, 100]\n",
    "heights = [75, 100, 20, 100, 200]\n",
    "\n",
    "geometric_factor(thicknesses, heights, top='round')"
   ]
  },
  {
   "cell_type": "markdown",
   "metadata": {
    "tags": [
     "hide"
    ]
   },
   "source": [
    "That doesn't work, we need another approach."
   ]
  },
  {
   "cell_type": "code",
   "execution_count": 12,
   "metadata": {
    "tags": [
     "hide"
    ]
   },
   "outputs": [],
   "source": [
    "import numpy as np\n",
    "\n",
    "thicknesses = np.array([10, 25, 15, 5, 100])\n",
    "heights = np.array([75, 100, 20, 100, 200])"
   ]
  },
  {
   "cell_type": "code",
   "execution_count": 13,
   "metadata": {
    "tags": [
     "hide"
    ]
   },
   "outputs": [
    {
     "data": {
      "text/plain": [
       "array([0.92, 0.85, 0.55, 0.97, 0.7 ])"
      ]
     },
     "execution_count": 13,
     "metadata": {},
     "output_type": "execute_result"
    }
   ],
   "source": [
    "geometric_factor(thicknesses, heights, top='round')"
   ]
  },
  {
   "cell_type": "markdown",
   "metadata": {
    "tags": [
     "hide"
    ]
   },
   "source": [
    "Well, that's convenient!"
   ]
  },
  {
   "cell_type": "markdown",
   "metadata": {},
   "source": [
    "## HC pore volume\n",
    "\n",
    "We need:\n",
    "\n",
    "- net:gross &mdash; the ratio of reservoir-quality rock thickness to the total thickness of the interval.\n",
    "- porosity\n",
    "- $S_\\mathrm{O}$ &mdash; the oil saturation, or proportion of oil to total pore fluid."
   ]
  },
  {
   "cell_type": "code",
   "execution_count": 14,
   "metadata": {},
   "outputs": [],
   "source": [
    "netg = 0.5   # fraction\n",
    "por = 0.24   # fraction\n",
    "s_o = 0.8    # fraction\n",
    "\n",
    "hcpv = netg * por * s_o"
   ]
  },
  {
   "cell_type": "code",
   "execution_count": 15,
   "metadata": {},
   "outputs": [
    {
     "data": {
      "text/plain": [
       "0.096"
      ]
     },
     "execution_count": 15,
     "metadata": {},
     "output_type": "execute_result"
    }
   ],
   "source": [
    "hcpv"
   ]
  },
  {
   "cell_type": "markdown",
   "metadata": {},
   "source": [
    "### EXERCISE\n",
    "\n",
    "Turn this into a function by rearranging the following lines of code:\n",
    "\n",
    "    \"\"\"A function to compute the hydrocarbon pore volume.\"\"\"\n",
    "    return hcpv\n",
    "    hcpv = netg * por * s_o\n",
    "    def calculate_hcpv(netg, por, s_o):\n"
   ]
  },
  {
   "cell_type": "code",
   "execution_count": 16,
   "metadata": {},
   "outputs": [],
   "source": [
    "# Put your code here:\n",
    "\n",
    "\n"
   ]
  },
  {
   "cell_type": "code",
   "execution_count": 17,
   "metadata": {
    "tags": [
     "hide"
    ]
   },
   "outputs": [],
   "source": [
    "def calculate_hcpv(netg, por, s_o):\n",
    "    hcpv = netg * por * s_o\n",
    "    return hcpv"
   ]
  },
  {
   "cell_type": "markdown",
   "metadata": {},
   "source": [
    "After you define the function and run that cell, this should work:"
   ]
  },
  {
   "cell_type": "code",
   "execution_count": 18,
   "metadata": {},
   "outputs": [
    {
     "data": {
      "text/plain": [
       "0.096"
      ]
     },
     "execution_count": 18,
     "metadata": {},
     "output_type": "execute_result"
    }
   ],
   "source": [
    "calculate_hcpv(0.5, 0.24, 0.8)"
   ]
  },
  {
   "cell_type": "markdown",
   "metadata": {},
   "source": [
    "You should get: `0.096`."
   ]
  },
  {
   "cell_type": "markdown",
   "metadata": {},
   "source": [
    "## Formation volume factor\n",
    "\n",
    "Oil shrinks when we produce it, especially if it has high GOR. The FVF, or $B_O$, is the ratio of a reservoir barrel to a stock-tank barrel (25 deg C and 1 atm). Typically the FVF is between 1 (heavy oil) and 1.7 (high GOR)."
   ]
  },
  {
   "cell_type": "code",
   "execution_count": 19,
   "metadata": {},
   "outputs": [],
   "source": [
    "fvf = 1.1"
   ]
  },
  {
   "cell_type": "markdown",
   "metadata": {},
   "source": [
    "We could define something to remember the FVF for different types of oil:"
   ]
  },
  {
   "cell_type": "code",
   "execution_count": 20,
   "metadata": {},
   "outputs": [],
   "source": [
    "fvfs = {\n",
    "    'Brent': 1.9,\n",
    "    'Forties': 1.2,\n",
    "    'Statfjord': 1.6,\n",
    "    'Gullfaks': 1.2,\n",
    "}"
   ]
  },
  {
   "cell_type": "markdown",
   "metadata": {},
   "source": [
    "Then access them by key:"
   ]
  },
  {
   "cell_type": "code",
   "execution_count": 21,
   "metadata": {},
   "outputs": [
    {
     "data": {
      "text/plain": [
       "1.9"
      ]
     },
     "execution_count": 21,
     "metadata": {},
     "output_type": "execute_result"
    }
   ],
   "source": [
    "fvfs['Brent']"
   ]
  },
  {
   "cell_type": "markdown",
   "metadata": {},
   "source": [
    "### EXERCISE\n",
    "\n",
    "For gas, $B_\\mathrm{G}$ is $0.35 Z T / P$, where $Z$ is the correction factor, or gas compressibility factor. $T$ should be in kelvin and $P$ in kPa. $Z$ is usually between 0.8 and 1.2, but it can be as low as 0.3 and as high as 2.0.\n",
    "\n",
    "Can you write a function to calculate $B_\\mathrm{G}$?"
   ]
  },
  {
   "cell_type": "code",
   "execution_count": 22,
   "metadata": {},
   "outputs": [],
   "source": [
    "def calculate_Bg(     ):  # Add the arguments.\n",
    "    \"\"\"Write a docstring.\"\"\"\n",
    "    \n",
    "    \n",
    "    return         # Don't forget to return something!"
   ]
  },
  {
   "cell_type": "markdown",
   "metadata": {},
   "source": [
    "## Put it all together\n",
    "\n",
    "Now we have the components of the volumetric equation:"
   ]
  },
  {
   "cell_type": "code",
   "execution_count": 23,
   "metadata": {},
   "outputs": [
    {
     "data": {
      "text/plain": [
       "4189090909.0909085"
      ]
     },
     "execution_count": 23,
     "metadata": {},
     "output_type": "execute_result"
    }
   ],
   "source": [
    "hcip = grv * hcpv / fvf\n",
    "hcip"
   ]
  },
  {
   "cell_type": "code",
   "execution_count": 24,
   "metadata": {},
   "outputs": [
    {
     "name": "stdout",
     "output_type": "stream",
     "text": [
      "HCIP 4189090909.0909085\n"
     ]
    }
   ],
   "source": [
    "print(\"HCIP\", hcip)"
   ]
  },
  {
   "cell_type": "markdown",
   "metadata": {},
   "source": [
    "[For more on conversion to bbl, BOE, etc.](https://en.wikipedia.org/wiki/Barrel_of_oil_equivalent)"
   ]
  },
  {
   "cell_type": "code",
   "execution_count": 25,
   "metadata": {},
   "outputs": [
    {
     "name": "stdout",
     "output_type": "stream",
     "text": [
      "HCIP is 4189 Mm³ or 26349 million bbl\n"
     ]
    }
   ],
   "source": [
    "print(\"HCIP is {:.0f} Mm³ or {:.0f} million bbl\".format(hcip/1000000, 6.29*hcip/1000000))"
   ]
  },
  {
   "cell_type": "markdown",
   "metadata": {},
   "source": [
    "### EXERCISE\n",
    "\n",
    "Can you write a function to compute the volume (i.e. the HCIP), given all the inputs?\n",
    "\n",
    "Try to use the functions for calculating GRV and HCPV that you have already written.\n",
    "\n",
    "As a reminder, here's the equation:\n",
    "\n",
    "$$ V = A \\times T \\times G \\times \\phi \\times N\\!\\!:\\!\\!G \\times S_\\mathrm{O} \\times \\frac{1}{B_\\mathrm{O}} $$"
   ]
  },
  {
   "cell_type": "code",
   "execution_count": 26,
   "metadata": {},
   "outputs": [],
   "source": [
    "# Put your code here.\n",
    "\n",
    "\n",
    "    "
   ]
  },
  {
   "cell_type": "code",
   "execution_count": 27,
   "metadata": {},
   "outputs": [],
   "source": [
    "def calculate_hcip(a, t, g, phi, ng, so, bo):\n",
    "    \"\"\"\n",
    "    Function to compute HCIP from area, thickness, height, etc.\n",
    "    \"\"\"\n",
    "    grv = calculate_grv(t, a)\n",
    "    hcpv = calculate_hcpv(ng, phi, so)\n",
    "    return  g * grv * hcpv / bo"
   ]
  },
  {
   "cell_type": "markdown",
   "metadata": {},
   "source": [
    "When you've defined the function, this should work:"
   ]
  },
  {
   "cell_type": "code",
   "execution_count": 28,
   "metadata": {},
   "outputs": [
    {
     "data": {
      "text/plain": [
       "4189090909.0909085"
      ]
     },
     "execution_count": 28,
     "metadata": {},
     "output_type": "execute_result"
    }
   ],
   "source": [
    "calculate_hcip(area, thick, g, por, netg, s_o, fvf)"
   ]
  },
  {
   "cell_type": "markdown",
   "metadata": {},
   "source": [
    "You should get `4189090909`."
   ]
  },
  {
   "cell_type": "markdown",
   "metadata": {},
   "source": [
    "## Monte Carlo simulation\n",
    "\n",
    "We can easily draw randomly from distributions of properties:\n",
    "\n",
    "- Normal: https://docs.scipy.org/doc/numpy/reference/generated/numpy.random.normal.html\n",
    "- Uniform: https://docs.scipy.org/doc/numpy/reference/generated/numpy.random.uniform.html\n",
    "- Lognormal: https://docs.scipy.org/doc/numpy/reference/generated/numpy.random.lognormal.html"
   ]
  },
  {
   "cell_type": "code",
   "execution_count": 29,
   "metadata": {},
   "outputs": [],
   "source": [
    "import numpy as np\n",
    "\n",
    "netg = np.random.normal(loc=0.5, scale=0.2, size=100)\n",
    "por = np.random.normal(loc=0.24, scale=0.03, size=100)"
   ]
  },
  {
   "cell_type": "code",
   "execution_count": 30,
   "metadata": {},
   "outputs": [
    {
     "data": {
      "image/png": "[encoded data removed]",
      "text/plain": [
       "<matplotlib.figure.Figure at 0x7f77ea2cda90>"
      ]
     },
     "metadata": {},
     "output_type": "display_data"
    }
   ],
   "source": [
    "%matplotlib inline\n",
    "import matplotlib.pyplot as plt\n",
    "\n",
    "_ = plt.hist(por, bins=20)"
   ]
  },
  {
   "cell_type": "code",
   "execution_count": 31,
   "metadata": {},
   "outputs": [],
   "source": [
    "hcpv = netg * por * s_o"
   ]
  },
  {
   "cell_type": "code",
   "execution_count": 32,
   "metadata": {},
   "outputs": [
    {
     "data": {
      "text/plain": [
       "array([0.10463467, 0.13844973, 0.09632187, 0.09811486, 0.13546228,\n",
       "       0.05473382, 0.0539462 , 0.05318151, 0.05836087, 0.08110308,\n",
       "       0.15570742, 0.07379856, 0.08406683, 0.04091922, 0.09326368,\n",
       "       0.03891135, 0.08486708, 0.10266718, 0.0859999 , 0.11052744,\n",
       "       0.11422104, 0.06985316, 0.04204137, 0.10516404, 0.11267607,\n",
       "       0.11430329, 0.0364055 , 0.13537027, 0.13276175, 0.0625544 ,\n",
       "       0.03664434, 0.10680863, 0.07817438, 0.09562748, 0.04337794,\n",
       "       0.01403742, 0.15192367, 0.02246021, 0.09327783, 0.07897611,\n",
       "       0.08602473, 0.13025703, 0.10737067, 0.13135462, 0.07621068,\n",
       "       0.06144338, 0.06696551, 0.09335605, 0.01353477, 0.04372606,\n",
       "       0.0755155 , 0.12744285, 0.09269303, 0.10077561, 0.16669723,\n",
       "       0.10600953, 0.1263897 , 0.06936494, 0.0417649 , 0.10232121,\n",
       "       0.06856065, 0.0730744 , 0.04087821, 0.05763923, 0.05936807,\n",
       "       0.09958708, 0.09224573, 0.09070145, 0.14499421, 0.10042492,\n",
       "       0.07575852, 0.06648375, 0.09956885, 0.09931854, 0.12380239,\n",
       "       0.11781906, 0.07426223, 0.11031258, 0.08503189, 0.08089412,\n",
       "       0.06452109, 0.19768353, 0.08645628, 0.09649183, 0.10744527,\n",
       "       0.17859396, 0.10592151, 0.11597823, 0.1205709 , 0.05558256,\n",
       "       0.03885035, 0.03920475, 0.06553615, 0.04977291, 0.0942277 ,\n",
       "       0.14989706, 0.07161818, 0.05213864, 0.07626125, 0.11176467])"
      ]
     },
     "execution_count": 32,
     "metadata": {},
     "output_type": "execute_result"
    }
   ],
   "source": [
    "hcpv"
   ]
  },
  {
   "cell_type": "code",
   "execution_count": 33,
   "metadata": {},
   "outputs": [
    {
     "data": {
      "image/png": "[encoded data removed]",
      "text/plain": [
       "<matplotlib.figure.Figure at 0x7f77e80a4198>"
      ]
     },
     "metadata": {},
     "output_type": "display_data"
    }
   ],
   "source": [
    "%matplotlib inline\n",
    "import matplotlib.pyplot as plt\n",
    "\n",
    "_ = plt.hist(hcpv, bins=20)"
   ]
  },
  {
   "cell_type": "markdown",
   "metadata": {},
   "source": [
    "The histogram looks a bit ragged, but this is probably because of the relatively small number of samples."
   ]
  },
  {
   "cell_type": "markdown",
   "metadata": {},
   "source": [
    "### EXERCISE\n",
    "\n",
    "1. How does the histogram look if you take 1000 or 10,000 samples instead of 100?\n",
    "1. Make distributions for some of the other properties, like thickness and FVF.\n",
    "1. Maybe our functions should check that we don't get unreasonable values, like negative numbers, or decimal fractions over 1.0 Try to implement this if you have time."
   ]
  },
  {
   "cell_type": "code",
   "execution_count": null,
   "metadata": {},
   "outputs": [],
   "source": []
  },
  {
   "cell_type": "markdown",
   "metadata": {},
   "source": [
    "----\n",
    "\n",
    "## Full MC calculation"
   ]
  },
  {
   "cell_type": "markdown",
   "metadata": {},
   "source": [
    "Remember how when we changed lists of multiple values into our functions, they didn't work, but if we used arrays they did? Well, our distributions are arrays, so we might just be able to pass them straight to our function:"
   ]
  },
  {
   "cell_type": "code",
   "execution_count": 34,
   "metadata": {},
   "outputs": [
    {
     "data": {
      "text/plain": [
       "array([4.56587661e+09, 6.04144292e+09, 4.20313600e+09, 4.28137587e+09,\n",
       "       5.91108150e+09, 2.38838505e+09, 2.35401605e+09, 2.32064777e+09,\n",
       "       2.54665602e+09, 3.53904352e+09, 6.79450549e+09, 3.22030064e+09,\n",
       "       3.66837055e+09, 1.78556611e+09, 4.06968769e+09, 1.69794989e+09,\n",
       "       3.70329056e+09, 4.48002227e+09, 3.75272272e+09, 4.82301568e+09,\n",
       "       4.98419094e+09, 3.04813790e+09, 1.83453240e+09, 4.58897629e+09,\n",
       "       4.91677417e+09, 4.98777986e+09, 1.58860378e+09, 5.90706615e+09,\n",
       "       5.79323982e+09, 2.72964668e+09, 1.59902575e+09, 4.66074017e+09,\n",
       "       3.41124575e+09, 4.17283529e+09, 1.89285547e+09, 6.12541967e+08,\n",
       "       6.62939645e+09, 9.80081971e+08, 4.07030525e+09, 3.44623011e+09,\n",
       "       3.75380642e+09, 5.68394331e+09, 4.68526539e+09, 5.73183813e+09,\n",
       "       3.32555682e+09, 2.68116572e+09, 2.92213146e+09, 4.07371834e+09,\n",
       "       5.90608071e+08, 1.90804609e+09, 3.29522187e+09, 5.56114240e+09,\n",
       "       4.04478688e+09, 4.39748134e+09, 7.27406112e+09, 4.62587046e+09,\n",
       "       5.51518679e+09, 3.02683374e+09, 1.82246838e+09, 4.46492543e+09,\n",
       "       2.99173760e+09, 3.18870101e+09, 1.78377661e+09, 2.51516631e+09,\n",
       "       2.59060673e+09, 4.34561799e+09, 4.02526813e+09, 3.95788128e+09,\n",
       "       6.32702016e+09, 4.38217843e+09, 3.30582627e+09, 2.90110900e+09,\n",
       "       4.34482242e+09, 4.33389981e+09, 5.40228594e+09, 5.14119529e+09,\n",
       "       3.24053357e+09, 4.81363981e+09, 3.71048226e+09, 3.52992542e+09,\n",
       "       2.81546564e+09, 8.62619054e+09, 3.77263754e+09, 4.21055258e+09,\n",
       "       4.68852070e+09, 7.79319079e+09, 4.62202950e+09, 5.06086804e+09,\n",
       "       5.26127557e+09, 2.42542098e+09, 1.69528790e+09, 1.71075280e+09,\n",
       "       2.85975943e+09, 2.17190901e+09, 4.11175428e+09, 6.54096255e+09,\n",
       "       3.12515689e+09, 2.27514064e+09, 3.32776344e+09, 4.87700374e+09])"
      ]
     },
     "execution_count": 34,
     "metadata": {},
     "output_type": "execute_result"
    }
   ],
   "source": [
    "calculate_hcip(area, thick, g, por, netg, s_o, fvf)"
   ]
  },
  {
   "cell_type": "code",
   "execution_count": 35,
   "metadata": {},
   "outputs": [
    {
     "data": {
      "image/png": "[encoded data removed]",
      "text/plain": [
       "<matplotlib.figure.Figure at 0x7f77e80280b8>"
      ]
     },
     "metadata": {},
     "output_type": "display_data"
    }
   ],
   "source": [
    "hcip = calculate_hcip(area, thick, g, por, netg, s_o, fvf)\n",
    "\n",
    "plt.figure(figsize=(20,4))\n",
    "plt.bar(np.arange(100), sorted(hcip))\n",
    "plt.show()"
   ]
  },
  {
   "cell_type": "code",
   "execution_count": 36,
   "metadata": {},
   "outputs": [
    {
     "data": {
      "image/png": "[encoded data removed]",
      "text/plain": [
       "<matplotlib.figure.Figure at 0x7f77db8a1940>"
      ]
     },
     "metadata": {},
     "output_type": "display_data"
    }
   ],
   "source": [
    "p = 50\n",
    "\n",
    "cols = 100 * ['gray']\n",
    "cols[p] = 'red'\n",
    "\n",
    "plt.figure(figsize=(20,4))\n",
    "plt.bar(np.arange(100), sorted(hcip), color=cols)\n",
    "plt.text(p, hcip[p]*1.3, f'{hcip[50]:.2e} $\\mathrm{{Sm}}^3$', ha='center', color='red', size=20)\n",
    "plt.show()"
   ]
  },
  {
   "cell_type": "markdown",
   "metadata": {},
   "source": [
    "### Lognormal distributions\n",
    "\n",
    "We might prefer a lognormal distribution for some parameters, e.g. area and porosity.\n",
    "\n",
    "This is a little trickier, and involves using `scipy`. The good news is that this gives us access to 97 other continuous distributions, as well as multivariate distributions and other useful things."
   ]
  },
  {
   "cell_type": "code",
   "execution_count": 37,
   "metadata": {},
   "outputs": [],
   "source": [
    "import scipy.stats\n",
    "\n",
    "dist = scipy.stats.lognorm(s=0.2, scale=0.15)"
   ]
  },
  {
   "cell_type": "markdown",
   "metadata": {},
   "source": [
    "This has instantiated a continuous distribution, from which we can now sample random variables:"
   ]
  },
  {
   "cell_type": "code",
   "execution_count": 38,
   "metadata": {},
   "outputs": [],
   "source": [
    "samples = dist.rvs(size=10000)"
   ]
  },
  {
   "cell_type": "markdown",
   "metadata": {},
   "source": [
    "These have a lognormal distribution."
   ]
  },
  {
   "cell_type": "code",
   "execution_count": 39,
   "metadata": {},
   "outputs": [
    {
     "data": {
      "image/png": "[encoded data removed]",
      "text/plain": [
       "<matplotlib.figure.Figure at 0x7f77db70c828>"
      ]
     },
     "metadata": {},
     "output_type": "display_data"
    }
   ],
   "source": [
    "_ = plt.hist(samples, bins=40)"
   ]
  },
  {
   "cell_type": "markdown",
   "metadata": {},
   "source": [
    "# Reading data from a file\n",
    "\n",
    "Let's try reading data from a CSV."
   ]
  },
  {
   "cell_type": "code",
   "execution_count": 40,
   "metadata": {},
   "outputs": [
    {
     "name": "stdout",
     "output_type": "stream",
     "text": [
      "churchmanbible.csv                    \u001b[0m\u001b[01;35mmodel_performance.jpg\u001b[0m\r\n",
      "crosshcattle.csv                      newby.csv\r\n",
      "HC_volumes_random_input.csv           nolan.csv\r\n",
      "lukegu.csv                            recruitf9.csv\r\n",
      "\u001b[01;35mML_classifier_comparison_sklearn.png\u001b[0m  shankle.csv\r\n",
      "\u001b[01;35mML_loop.png\u001b[0m                           shrimplin.csv\r\n"
     ]
    }
   ],
   "source": [
    "ls ../data"
   ]
  },
  {
   "cell_type": "code",
   "execution_count": 41,
   "metadata": {},
   "outputs": [
    {
     "name": "stdout",
     "output_type": "stream",
     "text": [
      "Index,Name,Thick [m],Area [km2],GeomFactor,N:G,phi,So,Bo\r\n",
      "0,Prospect_1,173,65.71485384739277,0.73,0.26,0.150557324267673,0.45,1.1\r\n",
      "1,Prospect_2,410,40.6848690615174,0.43,0.59,0.1631222974216735,0.38,1.23\r\n",
      "2,Prospect_3,160,13.883810284557013,0.55,0.16,0.16780987275649162,0.59,1.29\r\n",
      "3,Prospect_4,11,5.572679283963141,0.67,0.12,0.17676582709753452,0.29,1.2\r\n"
     ]
    }
   ],
   "source": [
    "!head -5 ../data/HC_volumes_random_input.csv"
   ]
  },
  {
   "cell_type": "code",
   "execution_count": 42,
   "metadata": {
    "scrolled": true
   },
   "outputs": [
    {
     "name": "stdout",
     "output_type": "stream",
     "text": [
      "['Index', 'Name', 'Thick [m]', 'Area [km2]', 'GeomFactor', 'N:G', 'phi', 'So', 'Bo\\n']\n",
      "['0', 'Prospect_1', '173', '65.71485384739277', '0.73', '0.26', '0.150557324267673', '0.45', '1.1\\n']\n",
      "['1', 'Prospect_2', '410', '40.6848690615174', '0.43', '0.59', '0.1631222974216735', '0.38', '1.23\\n']\n",
      "['2', 'Prospect_3', '160', '13.883810284557013', '0.55', '0.16', '0.16780987275649162', '0.59', '1.29\\n']\n",
      "['3', 'Prospect_4', '11', '5.572679283963141', '0.67', '0.12', '0.17676582709753452', '0.29', '1.2\\n']\n",
      "['4', 'Prospect_5', '257', '49.99581426847227', '0.81', '0.31', '0.17925532180157155', '0.14', '1.28\\n']\n",
      "['5', 'Prospect_6', '423', '3.0311172449878763', '0.93', '0.08', '0.18038583649470907', '0.73', '1.29\\n']\n",
      "['6', 'Prospect_7', '466', '8.382403728483991', '0.72', '0.53', '0.18398791462326147', '0.21', '1.33\\n']\n",
      "['7', 'Prospect_8', '66', '0.6368698740979926', '0.67', '0.38', '0.16910814310209066', '0.64', '1.37\\n']\n",
      "['8', 'Prospect_9', '191', '157.90441500174487', '0.51', '0.03', '0.158641534780678', '0.17', '1.3\\n']\n",
      "['9', 'Prospect_10', '270', '16.58931673332573', '0.97', '0.3', '0.13434252462536755', '0.64', '1.17\\n']\n",
      "['10', 'Prospect_11', '457', '16.14738881015348', '0.46', '0.22', '0.15566423238288407', '0.3', '1.32\\n']\n",
      "['11', 'Prospect_12', '331', '11.496256383569937', '0.67', '0.25', '0.16388010259301344', '0.77', '1.03\\n']\n",
      "['12', 'Prospect_13', '349', '18.599438635306875', '0.7', '0.56', '0.14901997244348086', '0.07', '1.05\\n']\n",
      "['13', 'Prospect_14', '48', '2.422604465282244', '0.59', '0.16', '0.14347723453418704', '0.53', '1.34\\n']\n",
      "['14', 'Prospect_15', '403', '50.21586672272406', '0.84', '0.06', '0.156193379605434', '0.28', '1.08\\n']\n",
      "['15', 'Prospect_16', '195', '10.481214183269783', '0.97', '0.21', '0.15408303238862264', '0.68', '1.38\\n']\n",
      "['16', 'Prospect_17', '393', '82.10156356394862', '0.63', '0.54', '0.15256934771176756', '0.33', '1.26\\n']\n",
      "['17', 'Prospect_18', '489', '5.547898788392189', '0.92', '0.17', '0.15921164142480637', '0.17', '1.07\\n']\n",
      "['18', 'Prospect_19', '379', '14.001294449376449', '0.61', '0.34', '0.16243478874866035', '0.46', '1.06\\n']\n",
      "['19', 'Prospect_20', '483', '4.749943456380044', '0.74', '0.27', '0.15146679291490361', '0.01', '1.09\\n']\n",
      "['20', 'Prospect_21', '281', '25.235076274111233', '0.53', '0.53', '0.1663087016643161', '0.44', '1.38\\n']\n",
      "['21', 'Prospect_22', '64', '4.3835037915828', '0.59', '0.19', '0.16944098446513367', '0.05', '1.14\\n']\n",
      "['22', 'Prospect_23', '369', '6.074560422074699', '0.94', '0.49', '0.1826558360610797', '0.28', '1.39\\n']\n",
      "['23', 'Prospect_24', '164', '27.1961076118878', '0.62', '0.21', '0.15027028142853638', '0.34', '1.37\\n']\n",
      "['24', 'Prospect_25', '85', '9.307414765550805', '0.49', '0.14', '0.18395026359624045', '0.55', '1.12\\n']\n",
      "['25', 'Prospect_26', '91', '62.7690409244925', '0.77', '0.24', '0.1557095513026261', '0.53', '1.32\\n']\n",
      "['26', 'Prospect_27', '493', '12.889496340374688', '0.92', '0.07', '0.18117144739868407', '0.4', '1.06\\n']\n",
      "['27', 'Prospect_28', '61', '11.668275309867328', '0.6', '0.33', '0.14609369866612765', '0.77', '1.23\\n']\n",
      "['28', 'Prospect_29', '445', '1.4594785783320041', '0.7', '0.03', '0.1733827843352449', '0.01', '1.2\\n']\n",
      "['29', 'Prospect_30', '418', '9.4320821705454', '0.52', '0.24', '0.1651467824263122', '0.2', '1.39\\n']\n",
      "['30', 'Prospect_31', '60', '9.892306123729684', '0.66', '0.37', '0.15628782013014386', '0.47', '1.15\\n']\n",
      "['31', 'Prospect_32', '169', '46.26552695252176', '0.52', '0.48', '0.16919046104655044', '0.52', '1.09\\n']\n",
      "['32', 'Prospect_33', '458', '23.579852797947627', '0.62', '0.57', '0.17195110860456642', '0.64', '1.04\\n']\n",
      "['33', 'Prospect_34', '152', '31.848303540845727', '0.8', '0.21', '0.15688957589705765', '0.84', '1.13\\n']\n",
      "['34', 'Prospect_35', '315', '14.078413169297315', '0.62', '0.57', '0.15696013079597337', '0.32', '1.15\\n']\n",
      "['35', 'Prospect_36', '94', '23.486492472377336', '0.84', '0.58', '0.15407933067007296', '0.1', '1.07\\n']\n",
      "['36', 'Prospect_37', '276', '22.263492394367912', '0.47', '0.38', '0.16867247530369145', '0.64', '1.14\\n']\n",
      "['37', 'Prospect_38', '168', '25.061165827965894', '0.66', '0.04', '0.16335707625452844', '0.3', '1.36\\n']\n",
      "['38', 'Prospect_39', '408', '5.265632244262112', '0.57', '0.4', '0.16554903256761633', '0.29', '1.17\\n']\n",
      "['39', 'Prospect_40', '164', '6.121612037232237', '0.63', '0.14', '0.17863105022712533', '0.65', '1.24\\n']\n",
      "['40', 'Prospect_41', '394', '2.7917848331766497', '0.91', '0.1', '0.15578995285816943', '0.17', '1.09\\n']\n",
      "['41', 'Prospect_42', '210', '1.4594674357823554', '0.71', '0.59', '0.17068780208718004', '0.36', '1.2\\n']\n",
      "['42', 'Prospect_43', '308', '5.579521012217573', '0.57', '0.31', '0.15536975803082753', '0.53', '1.28\\n']\n",
      "['43', 'Prospect_44', '190', '8.816097634997368', '0.49', '0.2', '0.16248714037843293', '0.66', '1.38\\n']\n",
      "['44', 'Prospect_45', '449', '26.620284664047187', '0.89', '0.49', '0.15719186951847708', '0.74', '1.18\\n']\n",
      "['45', 'Prospect_46', '305', '26.038790469795757', '0.47', '0.33', '0.16555448878058598', '0.56', '1.14\\n']\n",
      "['46', 'Prospect_47', '426', '5.2569414579370735', '0.55', '0.49', '0.15013702997220757', '0.82', '1.04\\n']\n",
      "['47', 'Prospect_48', '341', '1.3912545450850824', '0.74', '0.12', '0.1734884187684851', '0.0', '1.33\\n']\n",
      "['48', 'Prospect_49', '189', '9.978723117919216', '0.66', '0.25', '0.1552139026056989', '0.66', '1.09\\n']\n",
      "['49', 'Prospect_50', '90', '7.354939784684077', '0.49', '0.17', '0.17612654032283537', '0.67', '1.13\\n']\n",
      "['50', 'Prospect_51', '23', '16.745224002904507', '0.65', '0.48', '0.15993002303030468', '0.38', '1.31\\n']\n",
      "['51', 'Prospect_52', '108', '2.1253354186333606', '0.72', '0.12', '0.16705421129700593', '0.54', '1.32\\n']\n",
      "['52', 'Prospect_53', '341', '8.121894067284774', '0.47', '0.29', '0.14765377092661613', '0.53', '1.24\\n']\n",
      "['53', 'Prospect_54', '342', '49.50264606439557', '0.98', '0.28', '0.16145161205899594', '0.26', '1.34\\n']\n",
      "['54', 'Prospect_55', '499', '6.488552056814277', '0.83', '0.08', '0.17593021268548537', '0.74', '1.39\\n']\n",
      "['55', 'Prospect_56', '353', '21.64192208918976', '0.62', '0.29', '0.1510861912329009', '0.29', '1.26\\n']\n",
      "['56', 'Prospect_57', '487', '23.40685346460522', '0.87', '0.12', '0.1570775910391502', '0.68', '1.31\\n']\n",
      "['57', 'Prospect_58', '28', '7.073216636365431', '0.62', '0.56', '0.15132555867457098', '0.3', '1.01\\n']\n",
      "['58', 'Prospect_59', '152', '68.19835820281723', '0.92', '0.59', '0.17133601297134482', '0.1', '1.35\\n']\n",
      "['59', 'Prospect_60', '107', '32.83191221904402', '0.9', '0.29', '0.17852991268938134', '0.58', '1.14\\n']\n",
      "['60', 'Prospect_61', '262', '2.992569983039752', '0.79', '0.56', '0.17092699238643094', '0.72', '1.06\\n']\n",
      "['61', 'Prospect_62', '373', '26.736380755704044', '0.53', '0.58', '0.15162335536813765', '0.31', '1.09\\n']\n",
      "['62', 'Prospect_63', '309', '36.47654409201492', '0.5', '0.51', '0.17827449556732944', '0.6', '1.19\\n']\n",
      "['63', 'Prospect_64', '373', '6.263564848534562', '0.73', '0.13', '0.172825517290482', '0.31', '1.15\\n']\n",
      "['64', 'Prospect_65', '280', '20.613272221381926', '0.95', '0.42', '0.16623013771347495', '0.21', '1.28\\n']\n",
      "['65', 'Prospect_66', '372', '3.1339706219953194', '0.79', '0.41', '0.16051816568816957', '0.71', '1.02\\n']\n",
      "['66', 'Prospect_67', '472', '27.25978593943501', '0.94', '0.46', '0.17407138081770457', '0.26', '1.08\\n']\n",
      "['67', 'Prospect_68', '142', '17.41439844665734', '0.71', '0.24', '0.17815968559844197', '0.09', '1.25\\n']\n",
      "['68', 'Prospect_69', '376', '38.92646496715556', '0.64', '0.24', '0.16286796327538422', '0.64', '1.37\\n']\n",
      "['69', 'Prospect_70', '434', '12.655137226663292', '0.71', '0.03', '0.15473536185694314', '0.02', '1.1\\n']\n",
      "['70', 'Prospect_71', '227', '75.50137284086027', '0.88', '0.2', '0.1592707401114326', '0.15', '1.01\\n']\n",
      "['71', 'Prospect_72', '209', '5.76587741737647', '0.58', '0.06', '0.14852331609753588', '0.29', '1.02\\n']\n",
      "['72', 'Prospect_73', '428', '34.20902090606737', '0.56', '0.2', '0.15972807217480844', '0.69', '1.22\\n']\n",
      "['73', 'Prospect_74', '159', '31.837693266640194', '0.98', '0.44', '0.15396023234727818', '0.31', '1.23\\n']\n",
      "['74', 'Prospect_75', '103', '16.260983927591198', '0.49', '0.48', '0.1596208944580817', '0.75', '1.14\\n']\n",
      "['75', 'Prospect_76', '191', '11.92752278475585', '0.98', '0.18', '0.1622264886108722', '0.55', '1.01\\n']\n",
      "['76', 'Prospect_77', '160', '3.524010201124162', '0.44', '0.58', '0.15666123778826013', '0.84', '1.35\\n']\n",
      "['77', 'Prospect_78', '144', '23.144111661843105', '0.59', '0.57', '0.1509244589658747', '0.71', '1.21\\n']\n",
      "['78', 'Prospect_79', '237', '18.991210125690742', '0.47', '0.43', '0.13187394683833098', '0.17', '1.35\\n']\n",
      "['79', 'Prospect_80', '448', '9.19370218531635', '0.78', '0.35', '0.16471529562869502', '0.01', '1.32\\n']\n",
      "['80', 'Prospect_81', '386', '10.37101931493527', '0.96', '0.57', '0.17737033960227722', '0.47', '1.18\\n']\n",
      "['81', 'Prospect_82', '125', '4.714314357138483', '0.78', '0.27', '0.17953748412132908', '0.06', '1.21\\n']\n",
      "['82', 'Prospect_83', '184', '27.301458747304455', '0.55', '0.07', '0.15876399850431944', '0.34', '1.08\\n']\n",
      "['83', 'Prospect_84', '257', '8.97301434509615', '0.76', '0.16', '0.17371468630244036', '0.33', '1.09\\n']\n",
      "['84', 'Prospect_85', '22', '23.428353461387136', '0.97', '0.22', '0.1739619625722959', '0.66', '1.19\\n']\n",
      "['85', 'Prospect_86', '304', '24.317697528403563', '0.74', '0.39', '0.15123868379827154', '0.69', '1.01\\n']\n",
      "['86', 'Prospect_87', '225', '28.386400449405993', '0.61', '0.18', '0.15686658092904726', '0.75', '1.21\\n']\n",
      "['87', 'Prospect_88', '363', '9.156741303129653', '0.91', '0.04', '0.15855644888642573', '0.6', '1.35\\n']\n",
      "['88', 'Prospect_89', '416', '14.97812104005416', '0.55', '0.07', '0.1553511098760516', '0.46', '1.12\\n']\n",
      "['89', 'Prospect_90', '471', '14.490241367728162', '0.71', '0.52', '0.15956807511334903', '0.29', '1.29\\n']\n",
      "['90', 'Prospect_91', '149', '13.629452527025414', '0.69', '0.33', '0.16022157377275859', '0.82', '1.16\\n']\n",
      "['91', 'Prospect_92', '354', '9.69292138746369', '0.6', '0.17', '0.14446486854363316', '0.6', '1.12\\n']\n",
      "['92', 'Prospect_93', '55', '15.163111601553116', '0.72', '0.02', '0.16960980440138274', '0.46', '1.18\\n']\n",
      "['93', 'Prospect_94', '395', '3.734265972455395', '0.45', '0.52', '0.16229894209961215', '0.12', '1.37\\n']\n",
      "['94', 'Prospect_95', '322', '26.872268037487423', '0.71', '0.3', '0.1531946040823653', '0.0', '1.0\\n']\n",
      "['95', 'Prospect_96', '143', '25.28148748352165', '0.56', '0.42', '0.16890144312862', '0.45', '1.01\\n']\n",
      "['96', 'Prospect_97', '295', '6.483604623381127', '0.96', '0.42', '0.16930520177697295', '0.31', '1.2\\n']\n",
      "['97', 'Prospect_98', '403', '6.82138096062126', '0.41', '0.36', '0.1483830139465021', '0.81', '1.14\\n']\n",
      "['98', 'Prospect_99', '164', '9.0268045375493', '0.46', '0.18', '0.16390552464219232', '0.01', '1.28\\n']\n",
      "['99', 'Prospect_100', '400', '1.6642965805636856', '0.48', '0.08', '0.160077413180711', '0.58', '1.19\\n']\n"
     ]
    }
   ],
   "source": [
    "with open('../data/HC_volumes_random_input.csv') as f:\n",
    "    for line in f:\n",
    "        data = line.split(',')\n",
    "        print(data)"
   ]
  },
  {
   "cell_type": "code",
   "execution_count": 43,
   "metadata": {},
   "outputs": [
    {
     "name": "stdout",
     "output_type": "stream",
     "text": [
      "OrderedDict([('Index', '0'), ('Name', 'Prospect_1'), ('Thick [m]', '173'), ('Area [km2]', '65.71485384739277'), ('GeomFactor', '0.73'), ('N:G', '0.26'), ('phi', '0.150557324267673'), ('So', '0.45'), ('Bo', '1.1')])\n",
      "OrderedDict([('Index', '1'), ('Name', 'Prospect_2'), ('Thick [m]', '410'), ('Area [km2]', '40.6848690615174'), ('GeomFactor', '0.43'), ('N:G', '0.59'), ('phi', '0.1631222974216735'), ('So', '0.38'), ('Bo', '1.23')])\n",
      "OrderedDict([('Index', '2'), ('Name', 'Prospect_3'), ('Thick [m]', '160'), ('Area [km2]', '13.883810284557013'), ('GeomFactor', '0.55'), ('N:G', '0.16'), ('phi', '0.16780987275649162'), ('So', '0.59'), ('Bo', '1.29')])\n",
      "OrderedDict([('Index', '3'), ('Name', 'Prospect_4'), ('Thick [m]', '11'), ('Area [km2]', '5.572679283963141'), ('GeomFactor', '0.67'), ('N:G', '0.12'), ('phi', '0.17676582709753452'), ('So', '0.29'), ('Bo', '1.2')])\n",
      "OrderedDict([('Index', '4'), ('Name', 'Prospect_5'), ('Thick [m]', '257'), ('Area [km2]', '49.99581426847227'), ('GeomFactor', '0.81'), ('N:G', '0.31'), ('phi', '0.17925532180157155'), ('So', '0.14'), ('Bo', '1.28')])\n",
      "OrderedDict([('Index', '5'), ('Name', 'Prospect_6'), ('Thick [m]', '423'), ('Area [km2]', '3.0311172449878763'), ('GeomFactor', '0.93'), ('N:G', '0.08'), ('phi', '0.18038583649470907'), ('So', '0.73'), ('Bo', '1.29')])\n",
      "OrderedDict([('Index', '6'), ('Name', 'Prospect_7'), ('Thick [m]', '466'), ('Area [km2]', '8.382403728483991'), ('GeomFactor', '0.72'), ('N:G', '0.53'), ('phi', '0.18398791462326147'), ('So', '0.21'), ('Bo', '1.33')])\n",
      "OrderedDict([('Index', '7'), ('Name', 'Prospect_8'), ('Thick [m]', '66'), ('Area [km2]', '0.6368698740979926'), ('GeomFactor', '0.67'), ('N:G', '0.38'), ('phi', '0.16910814310209066'), ('So', '0.64'), ('Bo', '1.37')])\n",
      "OrderedDict([('Index', '8'), ('Name', 'Prospect_9'), ('Thick [m]', '191'), ('Area [km2]', '157.90441500174487'), ('GeomFactor', '0.51'), ('N:G', '0.03'), ('phi', '0.158641534780678'), ('So', '0.17'), ('Bo', '1.3')])\n",
      "OrderedDict([('Index', '9'), ('Name', 'Prospect_10'), ('Thick [m]', '270'), ('Area [km2]', '16.58931673332573'), ('GeomFactor', '0.97'), ('N:G', '0.3'), ('phi', '0.13434252462536755'), ('So', '0.64'), ('Bo', '1.17')])\n",
      "OrderedDict([('Index', '10'), ('Name', 'Prospect_11'), ('Thick [m]', '457'), ('Area [km2]', '16.14738881015348'), ('GeomFactor', '0.46'), ('N:G', '0.22'), ('phi', '0.15566423238288407'), ('So', '0.3'), ('Bo', '1.32')])\n",
      "OrderedDict([('Index', '11'), ('Name', 'Prospect_12'), ('Thick [m]', '331'), ('Area [km2]', '11.496256383569937'), ('GeomFactor', '0.67'), ('N:G', '0.25'), ('phi', '0.16388010259301344'), ('So', '0.77'), ('Bo', '1.03')])\n",
      "OrderedDict([('Index', '12'), ('Name', 'Prospect_13'), ('Thick [m]', '349'), ('Area [km2]', '18.599438635306875'), ('GeomFactor', '0.7'), ('N:G', '0.56'), ('phi', '0.14901997244348086'), ('So', '0.07'), ('Bo', '1.05')])\n",
      "OrderedDict([('Index', '13'), ('Name', 'Prospect_14'), ('Thick [m]', '48'), ('Area [km2]', '2.422604465282244'), ('GeomFactor', '0.59'), ('N:G', '0.16'), ('phi', '0.14347723453418704'), ('So', '0.53'), ('Bo', '1.34')])\n",
      "OrderedDict([('Index', '14'), ('Name', 'Prospect_15'), ('Thick [m]', '403'), ('Area [km2]', '50.21586672272406'), ('GeomFactor', '0.84'), ('N:G', '0.06'), ('phi', '0.156193379605434'), ('So', '0.28'), ('Bo', '1.08')])\n",
      "OrderedDict([('Index', '15'), ('Name', 'Prospect_16'), ('Thick [m]', '195'), ('Area [km2]', '10.481214183269783'), ('GeomFactor', '0.97'), ('N:G', '0.21'), ('phi', '0.15408303238862264'), ('So', '0.68'), ('Bo', '1.38')])\n",
      "OrderedDict([('Index', '16'), ('Name', 'Prospect_17'), ('Thick [m]', '393'), ('Area [km2]', '82.10156356394862'), ('GeomFactor', '0.63'), ('N:G', '0.54'), ('phi', '0.15256934771176756'), ('So', '0.33'), ('Bo', '1.26')])\n",
      "OrderedDict([('Index', '17'), ('Name', 'Prospect_18'), ('Thick [m]', '489'), ('Area [km2]', '5.547898788392189'), ('GeomFactor', '0.92'), ('N:G', '0.17'), ('phi', '0.15921164142480637'), ('So', '0.17'), ('Bo', '1.07')])\n",
      "OrderedDict([('Index', '18'), ('Name', 'Prospect_19'), ('Thick [m]', '379'), ('Area [km2]', '14.001294449376449'), ('GeomFactor', '0.61'), ('N:G', '0.34'), ('phi', '0.16243478874866035'), ('So', '0.46'), ('Bo', '1.06')])\n",
      "OrderedDict([('Index', '19'), ('Name', 'Prospect_20'), ('Thick [m]', '483'), ('Area [km2]', '4.749943456380044'), ('GeomFactor', '0.74'), ('N:G', '0.27'), ('phi', '0.15146679291490361'), ('So', '0.01'), ('Bo', '1.09')])\n",
      "OrderedDict([('Index', '20'), ('Name', 'Prospect_21'), ('Thick [m]', '281'), ('Area [km2]', '25.235076274111233'), ('GeomFactor', '0.53'), ('N:G', '0.53'), ('phi', '0.1663087016643161'), ('So', '0.44'), ('Bo', '1.38')])\n",
      "OrderedDict([('Index', '21'), ('Name', 'Prospect_22'), ('Thick [m]', '64'), ('Area [km2]', '4.3835037915828'), ('GeomFactor', '0.59'), ('N:G', '0.19'), ('phi', '0.16944098446513367'), ('So', '0.05'), ('Bo', '1.14')])\n",
      "OrderedDict([('Index', '22'), ('Name', 'Prospect_23'), ('Thick [m]', '369'), ('Area [km2]', '6.074560422074699'), ('GeomFactor', '0.94'), ('N:G', '0.49'), ('phi', '0.1826558360610797'), ('So', '0.28'), ('Bo', '1.39')])\n",
      "OrderedDict([('Index', '23'), ('Name', 'Prospect_24'), ('Thick [m]', '164'), ('Area [km2]', '27.1961076118878'), ('GeomFactor', '0.62'), ('N:G', '0.21'), ('phi', '0.15027028142853638'), ('So', '0.34'), ('Bo', '1.37')])\n",
      "OrderedDict([('Index', '24'), ('Name', 'Prospect_25'), ('Thick [m]', '85'), ('Area [km2]', '9.307414765550805'), ('GeomFactor', '0.49'), ('N:G', '0.14'), ('phi', '0.18395026359624045'), ('So', '0.55'), ('Bo', '1.12')])\n",
      "OrderedDict([('Index', '25'), ('Name', 'Prospect_26'), ('Thick [m]', '91'), ('Area [km2]', '62.7690409244925'), ('GeomFactor', '0.77'), ('N:G', '0.24'), ('phi', '0.1557095513026261'), ('So', '0.53'), ('Bo', '1.32')])\n",
      "OrderedDict([('Index', '26'), ('Name', 'Prospect_27'), ('Thick [m]', '493'), ('Area [km2]', '12.889496340374688'), ('GeomFactor', '0.92'), ('N:G', '0.07'), ('phi', '0.18117144739868407'), ('So', '0.4'), ('Bo', '1.06')])\n",
      "OrderedDict([('Index', '27'), ('Name', 'Prospect_28'), ('Thick [m]', '61'), ('Area [km2]', '11.668275309867328'), ('GeomFactor', '0.6'), ('N:G', '0.33'), ('phi', '0.14609369866612765'), ('So', '0.77'), ('Bo', '1.23')])\n",
      "OrderedDict([('Index', '28'), ('Name', 'Prospect_29'), ('Thick [m]', '445'), ('Area [km2]', '1.4594785783320041'), ('GeomFactor', '0.7'), ('N:G', '0.03'), ('phi', '0.1733827843352449'), ('So', '0.01'), ('Bo', '1.2')])\n",
      "OrderedDict([('Index', '29'), ('Name', 'Prospect_30'), ('Thick [m]', '418'), ('Area [km2]', '9.4320821705454'), ('GeomFactor', '0.52'), ('N:G', '0.24'), ('phi', '0.1651467824263122'), ('So', '0.2'), ('Bo', '1.39')])\n",
      "OrderedDict([('Index', '30'), ('Name', 'Prospect_31'), ('Thick [m]', '60'), ('Area [km2]', '9.892306123729684'), ('GeomFactor', '0.66'), ('N:G', '0.37'), ('phi', '0.15628782013014386'), ('So', '0.47'), ('Bo', '1.15')])\n",
      "OrderedDict([('Index', '31'), ('Name', 'Prospect_32'), ('Thick [m]', '169'), ('Area [km2]', '46.26552695252176'), ('GeomFactor', '0.52'), ('N:G', '0.48'), ('phi', '0.16919046104655044'), ('So', '0.52'), ('Bo', '1.09')])\n",
      "OrderedDict([('Index', '32'), ('Name', 'Prospect_33'), ('Thick [m]', '458'), ('Area [km2]', '23.579852797947627'), ('GeomFactor', '0.62'), ('N:G', '0.57'), ('phi', '0.17195110860456642'), ('So', '0.64'), ('Bo', '1.04')])\n",
      "OrderedDict([('Index', '33'), ('Name', 'Prospect_34'), ('Thick [m]', '152'), ('Area [km2]', '31.848303540845727'), ('GeomFactor', '0.8'), ('N:G', '0.21'), ('phi', '0.15688957589705765'), ('So', '0.84'), ('Bo', '1.13')])\n",
      "OrderedDict([('Index', '34'), ('Name', 'Prospect_35'), ('Thick [m]', '315'), ('Area [km2]', '14.078413169297315'), ('GeomFactor', '0.62'), ('N:G', '0.57'), ('phi', '0.15696013079597337'), ('So', '0.32'), ('Bo', '1.15')])\n",
      "OrderedDict([('Index', '35'), ('Name', 'Prospect_36'), ('Thick [m]', '94'), ('Area [km2]', '23.486492472377336'), ('GeomFactor', '0.84'), ('N:G', '0.58'), ('phi', '0.15407933067007296'), ('So', '0.1'), ('Bo', '1.07')])\n",
      "OrderedDict([('Index', '36'), ('Name', 'Prospect_37'), ('Thick [m]', '276'), ('Area [km2]', '22.263492394367912'), ('GeomFactor', '0.47'), ('N:G', '0.38'), ('phi', '0.16867247530369145'), ('So', '0.64'), ('Bo', '1.14')])\n",
      "OrderedDict([('Index', '37'), ('Name', 'Prospect_38'), ('Thick [m]', '168'), ('Area [km2]', '25.061165827965894'), ('GeomFactor', '0.66'), ('N:G', '0.04'), ('phi', '0.16335707625452844'), ('So', '0.3'), ('Bo', '1.36')])\n",
      "OrderedDict([('Index', '38'), ('Name', 'Prospect_39'), ('Thick [m]', '408'), ('Area [km2]', '5.265632244262112'), ('GeomFactor', '0.57'), ('N:G', '0.4'), ('phi', '0.16554903256761633'), ('So', '0.29'), ('Bo', '1.17')])\n",
      "OrderedDict([('Index', '39'), ('Name', 'Prospect_40'), ('Thick [m]', '164'), ('Area [km2]', '6.121612037232237'), ('GeomFactor', '0.63'), ('N:G', '0.14'), ('phi', '0.17863105022712533'), ('So', '0.65'), ('Bo', '1.24')])\n",
      "OrderedDict([('Index', '40'), ('Name', 'Prospect_41'), ('Thick [m]', '394'), ('Area [km2]', '2.7917848331766497'), ('GeomFactor', '0.91'), ('N:G', '0.1'), ('phi', '0.15578995285816943'), ('So', '0.17'), ('Bo', '1.09')])\n",
      "OrderedDict([('Index', '41'), ('Name', 'Prospect_42'), ('Thick [m]', '210'), ('Area [km2]', '1.4594674357823554'), ('GeomFactor', '0.71'), ('N:G', '0.59'), ('phi', '0.17068780208718004'), ('So', '0.36'), ('Bo', '1.2')])\n",
      "OrderedDict([('Index', '42'), ('Name', 'Prospect_43'), ('Thick [m]', '308'), ('Area [km2]', '5.579521012217573'), ('GeomFactor', '0.57'), ('N:G', '0.31'), ('phi', '0.15536975803082753'), ('So', '0.53'), ('Bo', '1.28')])\n",
      "OrderedDict([('Index', '43'), ('Name', 'Prospect_44'), ('Thick [m]', '190'), ('Area [km2]', '8.816097634997368'), ('GeomFactor', '0.49'), ('N:G', '0.2'), ('phi', '0.16248714037843293'), ('So', '0.66'), ('Bo', '1.38')])\n",
      "OrderedDict([('Index', '44'), ('Name', 'Prospect_45'), ('Thick [m]', '449'), ('Area [km2]', '26.620284664047187'), ('GeomFactor', '0.89'), ('N:G', '0.49'), ('phi', '0.15719186951847708'), ('So', '0.74'), ('Bo', '1.18')])\n",
      "OrderedDict([('Index', '45'), ('Name', 'Prospect_46'), ('Thick [m]', '305'), ('Area [km2]', '26.038790469795757'), ('GeomFactor', '0.47'), ('N:G', '0.33'), ('phi', '0.16555448878058598'), ('So', '0.56'), ('Bo', '1.14')])\n",
      "OrderedDict([('Index', '46'), ('Name', 'Prospect_47'), ('Thick [m]', '426'), ('Area [km2]', '5.2569414579370735'), ('GeomFactor', '0.55'), ('N:G', '0.49'), ('phi', '0.15013702997220757'), ('So', '0.82'), ('Bo', '1.04')])\n",
      "OrderedDict([('Index', '47'), ('Name', 'Prospect_48'), ('Thick [m]', '341'), ('Area [km2]', '1.3912545450850824'), ('GeomFactor', '0.74'), ('N:G', '0.12'), ('phi', '0.1734884187684851'), ('So', '0.0'), ('Bo', '1.33')])\n",
      "OrderedDict([('Index', '48'), ('Name', 'Prospect_49'), ('Thick [m]', '189'), ('Area [km2]', '9.978723117919216'), ('GeomFactor', '0.66'), ('N:G', '0.25'), ('phi', '0.1552139026056989'), ('So', '0.66'), ('Bo', '1.09')])\n",
      "OrderedDict([('Index', '49'), ('Name', 'Prospect_50'), ('Thick [m]', '90'), ('Area [km2]', '7.354939784684077'), ('GeomFactor', '0.49'), ('N:G', '0.17'), ('phi', '0.17612654032283537'), ('So', '0.67'), ('Bo', '1.13')])\n",
      "OrderedDict([('Index', '50'), ('Name', 'Prospect_51'), ('Thick [m]', '23'), ('Area [km2]', '16.745224002904507'), ('GeomFactor', '0.65'), ('N:G', '0.48'), ('phi', '0.15993002303030468'), ('So', '0.38'), ('Bo', '1.31')])\n",
      "OrderedDict([('Index', '51'), ('Name', 'Prospect_52'), ('Thick [m]', '108'), ('Area [km2]', '2.1253354186333606'), ('GeomFactor', '0.72'), ('N:G', '0.12'), ('phi', '0.16705421129700593'), ('So', '0.54'), ('Bo', '1.32')])\n",
      "OrderedDict([('Index', '52'), ('Name', 'Prospect_53'), ('Thick [m]', '341'), ('Area [km2]', '8.121894067284774'), ('GeomFactor', '0.47'), ('N:G', '0.29'), ('phi', '0.14765377092661613'), ('So', '0.53'), ('Bo', '1.24')])\n",
      "OrderedDict([('Index', '53'), ('Name', 'Prospect_54'), ('Thick [m]', '342'), ('Area [km2]', '49.50264606439557'), ('GeomFactor', '0.98'), ('N:G', '0.28'), ('phi', '0.16145161205899594'), ('So', '0.26'), ('Bo', '1.34')])\n",
      "OrderedDict([('Index', '54'), ('Name', 'Prospect_55'), ('Thick [m]', '499'), ('Area [km2]', '6.488552056814277'), ('GeomFactor', '0.83'), ('N:G', '0.08'), ('phi', '0.17593021268548537'), ('So', '0.74'), ('Bo', '1.39')])\n",
      "OrderedDict([('Index', '55'), ('Name', 'Prospect_56'), ('Thick [m]', '353'), ('Area [km2]', '21.64192208918976'), ('GeomFactor', '0.62'), ('N:G', '0.29'), ('phi', '0.1510861912329009'), ('So', '0.29'), ('Bo', '1.26')])\n",
      "OrderedDict([('Index', '56'), ('Name', 'Prospect_57'), ('Thick [m]', '487'), ('Area [km2]', '23.40685346460522'), ('GeomFactor', '0.87'), ('N:G', '0.12'), ('phi', '0.1570775910391502'), ('So', '0.68'), ('Bo', '1.31')])\n",
      "OrderedDict([('Index', '57'), ('Name', 'Prospect_58'), ('Thick [m]', '28'), ('Area [km2]', '7.073216636365431'), ('GeomFactor', '0.62'), ('N:G', '0.56'), ('phi', '0.15132555867457098'), ('So', '0.3'), ('Bo', '1.01')])\n",
      "OrderedDict([('Index', '58'), ('Name', 'Prospect_59'), ('Thick [m]', '152'), ('Area [km2]', '68.19835820281723'), ('GeomFactor', '0.92'), ('N:G', '0.59'), ('phi', '0.17133601297134482'), ('So', '0.1'), ('Bo', '1.35')])\n",
      "OrderedDict([('Index', '59'), ('Name', 'Prospect_60'), ('Thick [m]', '107'), ('Area [km2]', '32.83191221904402'), ('GeomFactor', '0.9'), ('N:G', '0.29'), ('phi', '0.17852991268938134'), ('So', '0.58'), ('Bo', '1.14')])\n",
      "OrderedDict([('Index', '60'), ('Name', 'Prospect_61'), ('Thick [m]', '262'), ('Area [km2]', '2.992569983039752'), ('GeomFactor', '0.79'), ('N:G', '0.56'), ('phi', '0.17092699238643094'), ('So', '0.72'), ('Bo', '1.06')])\n",
      "OrderedDict([('Index', '61'), ('Name', 'Prospect_62'), ('Thick [m]', '373'), ('Area [km2]', '26.736380755704044'), ('GeomFactor', '0.53'), ('N:G', '0.58'), ('phi', '0.15162335536813765'), ('So', '0.31'), ('Bo', '1.09')])\n",
      "OrderedDict([('Index', '62'), ('Name', 'Prospect_63'), ('Thick [m]', '309'), ('Area [km2]', '36.47654409201492'), ('GeomFactor', '0.5'), ('N:G', '0.51'), ('phi', '0.17827449556732944'), ('So', '0.6'), ('Bo', '1.19')])\n",
      "OrderedDict([('Index', '63'), ('Name', 'Prospect_64'), ('Thick [m]', '373'), ('Area [km2]', '6.263564848534562'), ('GeomFactor', '0.73'), ('N:G', '0.13'), ('phi', '0.172825517290482'), ('So', '0.31'), ('Bo', '1.15')])\n",
      "OrderedDict([('Index', '64'), ('Name', 'Prospect_65'), ('Thick [m]', '280'), ('Area [km2]', '20.613272221381926'), ('GeomFactor', '0.95'), ('N:G', '0.42'), ('phi', '0.16623013771347495'), ('So', '0.21'), ('Bo', '1.28')])\n",
      "OrderedDict([('Index', '65'), ('Name', 'Prospect_66'), ('Thick [m]', '372'), ('Area [km2]', '3.1339706219953194'), ('GeomFactor', '0.79'), ('N:G', '0.41'), ('phi', '0.16051816568816957'), ('So', '0.71'), ('Bo', '1.02')])\n",
      "OrderedDict([('Index', '66'), ('Name', 'Prospect_67'), ('Thick [m]', '472'), ('Area [km2]', '27.25978593943501'), ('GeomFactor', '0.94'), ('N:G', '0.46'), ('phi', '0.17407138081770457'), ('So', '0.26'), ('Bo', '1.08')])\n",
      "OrderedDict([('Index', '67'), ('Name', 'Prospect_68'), ('Thick [m]', '142'), ('Area [km2]', '17.41439844665734'), ('GeomFactor', '0.71'), ('N:G', '0.24'), ('phi', '0.17815968559844197'), ('So', '0.09'), ('Bo', '1.25')])\n",
      "OrderedDict([('Index', '68'), ('Name', 'Prospect_69'), ('Thick [m]', '376'), ('Area [km2]', '38.92646496715556'), ('GeomFactor', '0.64'), ('N:G', '0.24'), ('phi', '0.16286796327538422'), ('So', '0.64'), ('Bo', '1.37')])\n",
      "OrderedDict([('Index', '69'), ('Name', 'Prospect_70'), ('Thick [m]', '434'), ('Area [km2]', '12.655137226663292'), ('GeomFactor', '0.71'), ('N:G', '0.03'), ('phi', '0.15473536185694314'), ('So', '0.02'), ('Bo', '1.1')])\n",
      "OrderedDict([('Index', '70'), ('Name', 'Prospect_71'), ('Thick [m]', '227'), ('Area [km2]', '75.50137284086027'), ('GeomFactor', '0.88'), ('N:G', '0.2'), ('phi', '0.1592707401114326'), ('So', '0.15'), ('Bo', '1.01')])\n",
      "OrderedDict([('Index', '71'), ('Name', 'Prospect_72'), ('Thick [m]', '209'), ('Area [km2]', '5.76587741737647'), ('GeomFactor', '0.58'), ('N:G', '0.06'), ('phi', '0.14852331609753588'), ('So', '0.29'), ('Bo', '1.02')])\n",
      "OrderedDict([('Index', '72'), ('Name', 'Prospect_73'), ('Thick [m]', '428'), ('Area [km2]', '34.20902090606737'), ('GeomFactor', '0.56'), ('N:G', '0.2'), ('phi', '0.15972807217480844'), ('So', '0.69'), ('Bo', '1.22')])\n",
      "OrderedDict([('Index', '73'), ('Name', 'Prospect_74'), ('Thick [m]', '159'), ('Area [km2]', '31.837693266640194'), ('GeomFactor', '0.98'), ('N:G', '0.44'), ('phi', '0.15396023234727818'), ('So', '0.31'), ('Bo', '1.23')])\n",
      "OrderedDict([('Index', '74'), ('Name', 'Prospect_75'), ('Thick [m]', '103'), ('Area [km2]', '16.260983927591198'), ('GeomFactor', '0.49'), ('N:G', '0.48'), ('phi', '0.1596208944580817'), ('So', '0.75'), ('Bo', '1.14')])\n",
      "OrderedDict([('Index', '75'), ('Name', 'Prospect_76'), ('Thick [m]', '191'), ('Area [km2]', '11.92752278475585'), ('GeomFactor', '0.98'), ('N:G', '0.18'), ('phi', '0.1622264886108722'), ('So', '0.55'), ('Bo', '1.01')])\n",
      "OrderedDict([('Index', '76'), ('Name', 'Prospect_77'), ('Thick [m]', '160'), ('Area [km2]', '3.524010201124162'), ('GeomFactor', '0.44'), ('N:G', '0.58'), ('phi', '0.15666123778826013'), ('So', '0.84'), ('Bo', '1.35')])\n",
      "OrderedDict([('Index', '77'), ('Name', 'Prospect_78'), ('Thick [m]', '144'), ('Area [km2]', '23.144111661843105'), ('GeomFactor', '0.59'), ('N:G', '0.57'), ('phi', '0.1509244589658747'), ('So', '0.71'), ('Bo', '1.21')])\n",
      "OrderedDict([('Index', '78'), ('Name', 'Prospect_79'), ('Thick [m]', '237'), ('Area [km2]', '18.991210125690742'), ('GeomFactor', '0.47'), ('N:G', '0.43'), ('phi', '0.13187394683833098'), ('So', '0.17'), ('Bo', '1.35')])\n",
      "OrderedDict([('Index', '79'), ('Name', 'Prospect_80'), ('Thick [m]', '448'), ('Area [km2]', '9.19370218531635'), ('GeomFactor', '0.78'), ('N:G', '0.35'), ('phi', '0.16471529562869502'), ('So', '0.01'), ('Bo', '1.32')])\n",
      "OrderedDict([('Index', '80'), ('Name', 'Prospect_81'), ('Thick [m]', '386'), ('Area [km2]', '10.37101931493527'), ('GeomFactor', '0.96'), ('N:G', '0.57'), ('phi', '0.17737033960227722'), ('So', '0.47'), ('Bo', '1.18')])\n",
      "OrderedDict([('Index', '81'), ('Name', 'Prospect_82'), ('Thick [m]', '125'), ('Area [km2]', '4.714314357138483'), ('GeomFactor', '0.78'), ('N:G', '0.27'), ('phi', '0.17953748412132908'), ('So', '0.06'), ('Bo', '1.21')])\n",
      "OrderedDict([('Index', '82'), ('Name', 'Prospect_83'), ('Thick [m]', '184'), ('Area [km2]', '27.301458747304455'), ('GeomFactor', '0.55'), ('N:G', '0.07'), ('phi', '0.15876399850431944'), ('So', '0.34'), ('Bo', '1.08')])\n",
      "OrderedDict([('Index', '83'), ('Name', 'Prospect_84'), ('Thick [m]', '257'), ('Area [km2]', '8.97301434509615'), ('GeomFactor', '0.76'), ('N:G', '0.16'), ('phi', '0.17371468630244036'), ('So', '0.33'), ('Bo', '1.09')])\n",
      "OrderedDict([('Index', '84'), ('Name', 'Prospect_85'), ('Thick [m]', '22'), ('Area [km2]', '23.428353461387136'), ('GeomFactor', '0.97'), ('N:G', '0.22'), ('phi', '0.1739619625722959'), ('So', '0.66'), ('Bo', '1.19')])\n",
      "OrderedDict([('Index', '85'), ('Name', 'Prospect_86'), ('Thick [m]', '304'), ('Area [km2]', '24.317697528403563'), ('GeomFactor', '0.74'), ('N:G', '0.39'), ('phi', '0.15123868379827154'), ('So', '0.69'), ('Bo', '1.01')])\n",
      "OrderedDict([('Index', '86'), ('Name', 'Prospect_87'), ('Thick [m]', '225'), ('Area [km2]', '28.386400449405993'), ('GeomFactor', '0.61'), ('N:G', '0.18'), ('phi', '0.15686658092904726'), ('So', '0.75'), ('Bo', '1.21')])\n",
      "OrderedDict([('Index', '87'), ('Name', 'Prospect_88'), ('Thick [m]', '363'), ('Area [km2]', '9.156741303129653'), ('GeomFactor', '0.91'), ('N:G', '0.04'), ('phi', '0.15855644888642573'), ('So', '0.6'), ('Bo', '1.35')])\n",
      "OrderedDict([('Index', '88'), ('Name', 'Prospect_89'), ('Thick [m]', '416'), ('Area [km2]', '14.97812104005416'), ('GeomFactor', '0.55'), ('N:G', '0.07'), ('phi', '0.1553511098760516'), ('So', '0.46'), ('Bo', '1.12')])\n",
      "OrderedDict([('Index', '89'), ('Name', 'Prospect_90'), ('Thick [m]', '471'), ('Area [km2]', '14.490241367728162'), ('GeomFactor', '0.71'), ('N:G', '0.52'), ('phi', '0.15956807511334903'), ('So', '0.29'), ('Bo', '1.29')])\n",
      "OrderedDict([('Index', '90'), ('Name', 'Prospect_91'), ('Thick [m]', '149'), ('Area [km2]', '13.629452527025414'), ('GeomFactor', '0.69'), ('N:G', '0.33'), ('phi', '0.16022157377275859'), ('So', '0.82'), ('Bo', '1.16')])\n",
      "OrderedDict([('Index', '91'), ('Name', 'Prospect_92'), ('Thick [m]', '354'), ('Area [km2]', '9.69292138746369'), ('GeomFactor', '0.6'), ('N:G', '0.17'), ('phi', '0.14446486854363316'), ('So', '0.6'), ('Bo', '1.12')])\n",
      "OrderedDict([('Index', '92'), ('Name', 'Prospect_93'), ('Thick [m]', '55'), ('Area [km2]', '15.163111601553116'), ('GeomFactor', '0.72'), ('N:G', '0.02'), ('phi', '0.16960980440138274'), ('So', '0.46'), ('Bo', '1.18')])\n",
      "OrderedDict([('Index', '93'), ('Name', 'Prospect_94'), ('Thick [m]', '395'), ('Area [km2]', '3.734265972455395'), ('GeomFactor', '0.45'), ('N:G', '0.52'), ('phi', '0.16229894209961215'), ('So', '0.12'), ('Bo', '1.37')])\n",
      "OrderedDict([('Index', '94'), ('Name', 'Prospect_95'), ('Thick [m]', '322'), ('Area [km2]', '26.872268037487423'), ('GeomFactor', '0.71'), ('N:G', '0.3'), ('phi', '0.1531946040823653'), ('So', '0.0'), ('Bo', '1.0')])\n",
      "OrderedDict([('Index', '95'), ('Name', 'Prospect_96'), ('Thick [m]', '143'), ('Area [km2]', '25.28148748352165'), ('GeomFactor', '0.56'), ('N:G', '0.42'), ('phi', '0.16890144312862'), ('So', '0.45'), ('Bo', '1.01')])\n",
      "OrderedDict([('Index', '96'), ('Name', 'Prospect_97'), ('Thick [m]', '295'), ('Area [km2]', '6.483604623381127'), ('GeomFactor', '0.96'), ('N:G', '0.42'), ('phi', '0.16930520177697295'), ('So', '0.31'), ('Bo', '1.2')])\n",
      "OrderedDict([('Index', '97'), ('Name', 'Prospect_98'), ('Thick [m]', '403'), ('Area [km2]', '6.82138096062126'), ('GeomFactor', '0.41'), ('N:G', '0.36'), ('phi', '0.1483830139465021'), ('So', '0.81'), ('Bo', '1.14')])\n",
      "OrderedDict([('Index', '98'), ('Name', 'Prospect_99'), ('Thick [m]', '164'), ('Area [km2]', '9.0268045375493'), ('GeomFactor', '0.46'), ('N:G', '0.18'), ('phi', '0.16390552464219232'), ('So', '0.01'), ('Bo', '1.28')])\n",
      "OrderedDict([('Index', '99'), ('Name', 'Prospect_100'), ('Thick [m]', '400'), ('Area [km2]', '1.6642965805636856'), ('GeomFactor', '0.48'), ('N:G', '0.08'), ('phi', '0.160077413180711'), ('So', '0.58'), ('Bo', '1.19')])\n"
     ]
    }
   ],
   "source": [
    "import csv\n",
    "with open('../data/HC_volumes_random_input.csv') as csvfile:\n",
    "    reader = csv.DictReader(csvfile)\n",
    "    for row in reader:\n",
    "        print(row)"
   ]
  },
  {
   "cell_type": "code",
   "execution_count": 44,
   "metadata": {},
   "outputs": [
    {
     "data": {
      "text/plain": [
       "OrderedDict([('Index', '99'),\n",
       "             ('Name', 'Prospect_100'),\n",
       "             ('Thick [m]', '400'),\n",
       "             ('Area [km2]', '1.6642965805636856'),\n",
       "             ('GeomFactor', '0.48'),\n",
       "             ('N:G', '0.08'),\n",
       "             ('phi', '0.160077413180711'),\n",
       "             ('So', '0.58'),\n",
       "             ('Bo', '1.19')])"
      ]
     },
     "execution_count": 44,
     "metadata": {},
     "output_type": "execute_result"
    }
   ],
   "source": [
    "row"
   ]
  },
  {
   "cell_type": "code",
   "execution_count": 45,
   "metadata": {},
   "outputs": [
    {
     "data": {
      "text/plain": [
       "'0.160077413180711'"
      ]
     },
     "execution_count": 45,
     "metadata": {},
     "output_type": "execute_result"
    }
   ],
   "source": [
    "row['phi']"
   ]
  },
  {
   "cell_type": "markdown",
   "metadata": {},
   "source": [
    "## Using `pandas`"
   ]
  },
  {
   "cell_type": "code",
   "execution_count": 46,
   "metadata": {},
   "outputs": [],
   "source": [
    "import pandas as pd\n",
    "\n",
    "df = pd.read_csv('../data/HC_volumes_random_input.csv')"
   ]
  },
  {
   "cell_type": "code",
   "execution_count": 47,
   "metadata": {},
   "outputs": [
    {
     "data": {
      "text/html": [
       "<div>\n",
       "<style scoped>\n",
       "    .dataframe tbody tr th:only-of-type {\n",
       "        vertical-align: middle;\n",
       "    }\n",
       "\n",
       "    .dataframe tbody tr th {\n",
       "        vertical-align: top;\n",
       "    }\n",
       "\n",
       "    .dataframe thead th {\n",
       "        text-align: right;\n",
       "    }\n",
       "</style>\n",
       "<table border=\"1\" class=\"dataframe\">\n",
       "  <thead>\n",
       "    <tr style=\"text-align: right;\">\n",
       "      <th></th>\n",
       "      <th>Index</th>\n",
       "      <th>Name</th>\n",
       "      <th>Thick [m]</th>\n",
       "      <th>Area [km2]</th>\n",
       "      <th>GeomFactor</th>\n",
       "      <th>N:G</th>\n",
       "      <th>phi</th>\n",
       "      <th>So</th>\n",
       "      <th>Bo</th>\n",
       "    </tr>\n",
       "  </thead>\n",
       "  <tbody>\n",
       "    <tr>\n",
       "      <th>0</th>\n",
       "      <td>0</td>\n",
       "      <td>Prospect_1</td>\n",
       "      <td>173</td>\n",
       "      <td>65.714854</td>\n",
       "      <td>0.73</td>\n",
       "      <td>0.26</td>\n",
       "      <td>0.150557</td>\n",
       "      <td>0.45</td>\n",
       "      <td>1.10</td>\n",
       "    </tr>\n",
       "    <tr>\n",
       "      <th>1</th>\n",
       "      <td>1</td>\n",
       "      <td>Prospect_2</td>\n",
       "      <td>410</td>\n",
       "      <td>40.684869</td>\n",
       "      <td>0.43</td>\n",
       "      <td>0.59</td>\n",
       "      <td>0.163122</td>\n",
       "      <td>0.38</td>\n",
       "      <td>1.23</td>\n",
       "    </tr>\n",
       "    <tr>\n",
       "      <th>2</th>\n",
       "      <td>2</td>\n",
       "      <td>Prospect_3</td>\n",
       "      <td>160</td>\n",
       "      <td>13.883810</td>\n",
       "      <td>0.55</td>\n",
       "      <td>0.16</td>\n",
       "      <td>0.167810</td>\n",
       "      <td>0.59</td>\n",
       "      <td>1.29</td>\n",
       "    </tr>\n",
       "    <tr>\n",
       "      <th>3</th>\n",
       "      <td>3</td>\n",
       "      <td>Prospect_4</td>\n",
       "      <td>11</td>\n",
       "      <td>5.572679</td>\n",
       "      <td>0.67</td>\n",
       "      <td>0.12</td>\n",
       "      <td>0.176766</td>\n",
       "      <td>0.29</td>\n",
       "      <td>1.20</td>\n",
       "    </tr>\n",
       "    <tr>\n",
       "      <th>4</th>\n",
       "      <td>4</td>\n",
       "      <td>Prospect_5</td>\n",
       "      <td>257</td>\n",
       "      <td>49.995814</td>\n",
       "      <td>0.81</td>\n",
       "      <td>0.31</td>\n",
       "      <td>0.179255</td>\n",
       "      <td>0.14</td>\n",
       "      <td>1.28</td>\n",
       "    </tr>\n",
       "  </tbody>\n",
       "</table>\n",
       "</div>"
      ],
      "text/plain": [
       "   Index        Name  Thick [m]  Area [km2]  GeomFactor   N:G       phi    So  \\\n",
       "0      0  Prospect_1        173   65.714854        0.73  0.26  0.150557  0.45   \n",
       "1      1  Prospect_2        410   40.684869        0.43  0.59  0.163122  0.38   \n",
       "2      2  Prospect_3        160   13.883810        0.55  0.16  0.167810  0.59   \n",
       "3      3  Prospect_4         11    5.572679        0.67  0.12  0.176766  0.29   \n",
       "4      4  Prospect_5        257   49.995814        0.81  0.31  0.179255  0.14   \n",
       "\n",
       "     Bo  \n",
       "0  1.10  \n",
       "1  1.23  \n",
       "2  1.29  \n",
       "3  1.20  \n",
       "4  1.28  "
      ]
     },
     "execution_count": 47,
     "metadata": {},
     "output_type": "execute_result"
    }
   ],
   "source": [
    "df.head()"
   ]
  },
  {
   "cell_type": "code",
   "execution_count": 48,
   "metadata": {
    "scrolled": true
   },
   "outputs": [
    {
     "data": {
      "text/html": [
       "<div>\n",
       "<style scoped>\n",
       "    .dataframe tbody tr th:only-of-type {\n",
       "        vertical-align: middle;\n",
       "    }\n",
       "\n",
       "    .dataframe tbody tr th {\n",
       "        vertical-align: top;\n",
       "    }\n",
       "\n",
       "    .dataframe thead th {\n",
       "        text-align: right;\n",
       "    }\n",
       "</style>\n",
       "<table border=\"1\" class=\"dataframe\">\n",
       "  <thead>\n",
       "    <tr style=\"text-align: right;\">\n",
       "      <th></th>\n",
       "      <th>Name</th>\n",
       "      <th>Thick [m]</th>\n",
       "    </tr>\n",
       "  </thead>\n",
       "  <tbody>\n",
       "    <tr>\n",
       "      <th>0</th>\n",
       "      <td>Prospect_1</td>\n",
       "      <td>173</td>\n",
       "    </tr>\n",
       "    <tr>\n",
       "      <th>1</th>\n",
       "      <td>Prospect_2</td>\n",
       "      <td>410</td>\n",
       "    </tr>\n",
       "    <tr>\n",
       "      <th>2</th>\n",
       "      <td>Prospect_3</td>\n",
       "      <td>160</td>\n",
       "    </tr>\n",
       "    <tr>\n",
       "      <th>3</th>\n",
       "      <td>Prospect_4</td>\n",
       "      <td>11</td>\n",
       "    </tr>\n",
       "    <tr>\n",
       "      <th>4</th>\n",
       "      <td>Prospect_5</td>\n",
       "      <td>257</td>\n",
       "    </tr>\n",
       "    <tr>\n",
       "      <th>5</th>\n",
       "      <td>Prospect_6</td>\n",
       "      <td>423</td>\n",
       "    </tr>\n",
       "    <tr>\n",
       "      <th>6</th>\n",
       "      <td>Prospect_7</td>\n",
       "      <td>466</td>\n",
       "    </tr>\n",
       "    <tr>\n",
       "      <th>7</th>\n",
       "      <td>Prospect_8</td>\n",
       "      <td>66</td>\n",
       "    </tr>\n",
       "    <tr>\n",
       "      <th>8</th>\n",
       "      <td>Prospect_9</td>\n",
       "      <td>191</td>\n",
       "    </tr>\n",
       "    <tr>\n",
       "      <th>9</th>\n",
       "      <td>Prospect_10</td>\n",
       "      <td>270</td>\n",
       "    </tr>\n",
       "    <tr>\n",
       "      <th>10</th>\n",
       "      <td>Prospect_11</td>\n",
       "      <td>457</td>\n",
       "    </tr>\n",
       "    <tr>\n",
       "      <th>11</th>\n",
       "      <td>Prospect_12</td>\n",
       "      <td>331</td>\n",
       "    </tr>\n",
       "    <tr>\n",
       "      <th>12</th>\n",
       "      <td>Prospect_13</td>\n",
       "      <td>349</td>\n",
       "    </tr>\n",
       "    <tr>\n",
       "      <th>13</th>\n",
       "      <td>Prospect_14</td>\n",
       "      <td>48</td>\n",
       "    </tr>\n",
       "    <tr>\n",
       "      <th>14</th>\n",
       "      <td>Prospect_15</td>\n",
       "      <td>403</td>\n",
       "    </tr>\n",
       "    <tr>\n",
       "      <th>15</th>\n",
       "      <td>Prospect_16</td>\n",
       "      <td>195</td>\n",
       "    </tr>\n",
       "    <tr>\n",
       "      <th>16</th>\n",
       "      <td>Prospect_17</td>\n",
       "      <td>393</td>\n",
       "    </tr>\n",
       "    <tr>\n",
       "      <th>17</th>\n",
       "      <td>Prospect_18</td>\n",
       "      <td>489</td>\n",
       "    </tr>\n",
       "    <tr>\n",
       "      <th>18</th>\n",
       "      <td>Prospect_19</td>\n",
       "      <td>379</td>\n",
       "    </tr>\n",
       "    <tr>\n",
       "      <th>19</th>\n",
       "      <td>Prospect_20</td>\n",
       "      <td>483</td>\n",
       "    </tr>\n",
       "    <tr>\n",
       "      <th>20</th>\n",
       "      <td>Prospect_21</td>\n",
       "      <td>281</td>\n",
       "    </tr>\n",
       "    <tr>\n",
       "      <th>21</th>\n",
       "      <td>Prospect_22</td>\n",
       "      <td>64</td>\n",
       "    </tr>\n",
       "    <tr>\n",
       "      <th>22</th>\n",
       "      <td>Prospect_23</td>\n",
       "      <td>369</td>\n",
       "    </tr>\n",
       "    <tr>\n",
       "      <th>23</th>\n",
       "      <td>Prospect_24</td>\n",
       "      <td>164</td>\n",
       "    </tr>\n",
       "    <tr>\n",
       "      <th>24</th>\n",
       "      <td>Prospect_25</td>\n",
       "      <td>85</td>\n",
       "    </tr>\n",
       "    <tr>\n",
       "      <th>25</th>\n",
       "      <td>Prospect_26</td>\n",
       "      <td>91</td>\n",
       "    </tr>\n",
       "    <tr>\n",
       "      <th>26</th>\n",
       "      <td>Prospect_27</td>\n",
       "      <td>493</td>\n",
       "    </tr>\n",
       "    <tr>\n",
       "      <th>27</th>\n",
       "      <td>Prospect_28</td>\n",
       "      <td>61</td>\n",
       "    </tr>\n",
       "    <tr>\n",
       "      <th>28</th>\n",
       "      <td>Prospect_29</td>\n",
       "      <td>445</td>\n",
       "    </tr>\n",
       "    <tr>\n",
       "      <th>29</th>\n",
       "      <td>Prospect_30</td>\n",
       "      <td>418</td>\n",
       "    </tr>\n",
       "    <tr>\n",
       "      <th>...</th>\n",
       "      <td>...</td>\n",
       "      <td>...</td>\n",
       "    </tr>\n",
       "    <tr>\n",
       "      <th>70</th>\n",
       "      <td>Prospect_71</td>\n",
       "      <td>227</td>\n",
       "    </tr>\n",
       "    <tr>\n",
       "      <th>71</th>\n",
       "      <td>Prospect_72</td>\n",
       "      <td>209</td>\n",
       "    </tr>\n",
       "    <tr>\n",
       "      <th>72</th>\n",
       "      <td>Prospect_73</td>\n",
       "      <td>428</td>\n",
       "    </tr>\n",
       "    <tr>\n",
       "      <th>73</th>\n",
       "      <td>Prospect_74</td>\n",
       "      <td>159</td>\n",
       "    </tr>\n",
       "    <tr>\n",
       "      <th>74</th>\n",
       "      <td>Prospect_75</td>\n",
       "      <td>103</td>\n",
       "    </tr>\n",
       "    <tr>\n",
       "      <th>75</th>\n",
       "      <td>Prospect_76</td>\n",
       "      <td>191</td>\n",
       "    </tr>\n",
       "    <tr>\n",
       "      <th>76</th>\n",
       "      <td>Prospect_77</td>\n",
       "      <td>160</td>\n",
       "    </tr>\n",
       "    <tr>\n",
       "      <th>77</th>\n",
       "      <td>Prospect_78</td>\n",
       "      <td>144</td>\n",
       "    </tr>\n",
       "    <tr>\n",
       "      <th>78</th>\n",
       "      <td>Prospect_79</td>\n",
       "      <td>237</td>\n",
       "    </tr>\n",
       "    <tr>\n",
       "      <th>79</th>\n",
       "      <td>Prospect_80</td>\n",
       "      <td>448</td>\n",
       "    </tr>\n",
       "    <tr>\n",
       "      <th>80</th>\n",
       "      <td>Prospect_81</td>\n",
       "      <td>386</td>\n",
       "    </tr>\n",
       "    <tr>\n",
       "      <th>81</th>\n",
       "      <td>Prospect_82</td>\n",
       "      <td>125</td>\n",
       "    </tr>\n",
       "    <tr>\n",
       "      <th>82</th>\n",
       "      <td>Prospect_83</td>\n",
       "      <td>184</td>\n",
       "    </tr>\n",
       "    <tr>\n",
       "      <th>83</th>\n",
       "      <td>Prospect_84</td>\n",
       "      <td>257</td>\n",
       "    </tr>\n",
       "    <tr>\n",
       "      <th>84</th>\n",
       "      <td>Prospect_85</td>\n",
       "      <td>22</td>\n",
       "    </tr>\n",
       "    <tr>\n",
       "      <th>85</th>\n",
       "      <td>Prospect_86</td>\n",
       "      <td>304</td>\n",
       "    </tr>\n",
       "    <tr>\n",
       "      <th>86</th>\n",
       "      <td>Prospect_87</td>\n",
       "      <td>225</td>\n",
       "    </tr>\n",
       "    <tr>\n",
       "      <th>87</th>\n",
       "      <td>Prospect_88</td>\n",
       "      <td>363</td>\n",
       "    </tr>\n",
       "    <tr>\n",
       "      <th>88</th>\n",
       "      <td>Prospect_89</td>\n",
       "      <td>416</td>\n",
       "    </tr>\n",
       "    <tr>\n",
       "      <th>89</th>\n",
       "      <td>Prospect_90</td>\n",
       "      <td>471</td>\n",
       "    </tr>\n",
       "    <tr>\n",
       "      <th>90</th>\n",
       "      <td>Prospect_91</td>\n",
       "      <td>149</td>\n",
       "    </tr>\n",
       "    <tr>\n",
       "      <th>91</th>\n",
       "      <td>Prospect_92</td>\n",
       "      <td>354</td>\n",
       "    </tr>\n",
       "    <tr>\n",
       "      <th>92</th>\n",
       "      <td>Prospect_93</td>\n",
       "      <td>55</td>\n",
       "    </tr>\n",
       "    <tr>\n",
       "      <th>93</th>\n",
       "      <td>Prospect_94</td>\n",
       "      <td>395</td>\n",
       "    </tr>\n",
       "    <tr>\n",
       "      <th>94</th>\n",
       "      <td>Prospect_95</td>\n",
       "      <td>322</td>\n",
       "    </tr>\n",
       "    <tr>\n",
       "      <th>95</th>\n",
       "      <td>Prospect_96</td>\n",
       "      <td>143</td>\n",
       "    </tr>\n",
       "    <tr>\n",
       "      <th>96</th>\n",
       "      <td>Prospect_97</td>\n",
       "      <td>295</td>\n",
       "    </tr>\n",
       "    <tr>\n",
       "      <th>97</th>\n",
       "      <td>Prospect_98</td>\n",
       "      <td>403</td>\n",
       "    </tr>\n",
       "    <tr>\n",
       "      <th>98</th>\n",
       "      <td>Prospect_99</td>\n",
       "      <td>164</td>\n",
       "    </tr>\n",
       "    <tr>\n",
       "      <th>99</th>\n",
       "      <td>Prospect_100</td>\n",
       "      <td>400</td>\n",
       "    </tr>\n",
       "  </tbody>\n",
       "</table>\n",
       "<p>100 rows × 2 columns</p>\n",
       "</div>"
      ],
      "text/plain": [
       "            Name  Thick [m]\n",
       "0     Prospect_1        173\n",
       "1     Prospect_2        410\n",
       "2     Prospect_3        160\n",
       "3     Prospect_4         11\n",
       "4     Prospect_5        257\n",
       "5     Prospect_6        423\n",
       "6     Prospect_7        466\n",
       "7     Prospect_8         66\n",
       "8     Prospect_9        191\n",
       "9    Prospect_10        270\n",
       "10   Prospect_11        457\n",
       "11   Prospect_12        331\n",
       "12   Prospect_13        349\n",
       "13   Prospect_14         48\n",
       "14   Prospect_15        403\n",
       "15   Prospect_16        195\n",
       "16   Prospect_17        393\n",
       "17   Prospect_18        489\n",
       "18   Prospect_19        379\n",
       "19   Prospect_20        483\n",
       "20   Prospect_21        281\n",
       "21   Prospect_22         64\n",
       "22   Prospect_23        369\n",
       "23   Prospect_24        164\n",
       "24   Prospect_25         85\n",
       "25   Prospect_26         91\n",
       "26   Prospect_27        493\n",
       "27   Prospect_28         61\n",
       "28   Prospect_29        445\n",
       "29   Prospect_30        418\n",
       "..           ...        ...\n",
       "70   Prospect_71        227\n",
       "71   Prospect_72        209\n",
       "72   Prospect_73        428\n",
       "73   Prospect_74        159\n",
       "74   Prospect_75        103\n",
       "75   Prospect_76        191\n",
       "76   Prospect_77        160\n",
       "77   Prospect_78        144\n",
       "78   Prospect_79        237\n",
       "79   Prospect_80        448\n",
       "80   Prospect_81        386\n",
       "81   Prospect_82        125\n",
       "82   Prospect_83        184\n",
       "83   Prospect_84        257\n",
       "84   Prospect_85         22\n",
       "85   Prospect_86        304\n",
       "86   Prospect_87        225\n",
       "87   Prospect_88        363\n",
       "88   Prospect_89        416\n",
       "89   Prospect_90        471\n",
       "90   Prospect_91        149\n",
       "91   Prospect_92        354\n",
       "92   Prospect_93         55\n",
       "93   Prospect_94        395\n",
       "94   Prospect_95        322\n",
       "95   Prospect_96        143\n",
       "96   Prospect_97        295\n",
       "97   Prospect_98        403\n",
       "98   Prospect_99        164\n",
       "99  Prospect_100        400\n",
       "\n",
       "[100 rows x 2 columns]"
      ]
     },
     "execution_count": 48,
     "metadata": {},
     "output_type": "execute_result"
    }
   ],
   "source": [
    "df[['Name', 'Thick [m]']]"
   ]
  },
  {
   "cell_type": "code",
   "execution_count": 49,
   "metadata": {},
   "outputs": [
    {
     "data": {
      "text/plain": [
       "0     11368.669716\n",
       "1     16680.796315\n",
       "2      2221.409646\n",
       "3        61.299472\n",
       "4     12848.924267\n",
       "5      1282.162595\n",
       "6      3906.200137\n",
       "7        42.033412\n",
       "8     30159.743265\n",
       "9      4479.115518\n",
       "10     7379.356686\n",
       "11     3805.260863\n",
       "12     6491.204084\n",
       "13      116.285014\n",
       "14    20236.994289\n",
       "15     2043.836766\n",
       "16    32265.914481\n",
       "17     2712.922508\n",
       "18     5306.490596\n",
       "19     2294.222689\n",
       "20     7091.056433\n",
       "21      280.544243\n",
       "22     2241.512796\n",
       "23     4460.161648\n",
       "24      791.130255\n",
       "25     5711.982724\n",
       "26     6354.521696\n",
       "27      711.764794\n",
       "28      649.467967\n",
       "29     3942.610347\n",
       "          ...     \n",
       "70    17138.811635\n",
       "71     1205.068380\n",
       "72    14641.460948\n",
       "73     5062.193229\n",
       "74     1674.881345\n",
       "75     2278.156852\n",
       "76      563.841632\n",
       "77     3332.752079\n",
       "78     4500.916800\n",
       "79     4118.778579\n",
       "80     4003.213456\n",
       "81      589.289295\n",
       "82     5023.468410\n",
       "83     2306.064687\n",
       "84      515.423776\n",
       "85     7392.580049\n",
       "86     6386.940101\n",
       "87     3323.897093\n",
       "88     6230.898353\n",
       "89     6824.903684\n",
       "90     2030.788427\n",
       "91     3431.294171\n",
       "92      833.971138\n",
       "93     1475.035059\n",
       "94     8652.870308\n",
       "95     3615.252710\n",
       "96     1912.663364\n",
       "97     2749.016527\n",
       "98     1480.395944\n",
       "99      665.718632\n",
       "Length: 100, dtype: float64"
      ]
     },
     "execution_count": 49,
     "metadata": {},
     "output_type": "execute_result"
    }
   ],
   "source": [
    "calculate_grv(df['Thick [m]'], df['Area [km2]'])"
   ]
  },
  {
   "cell_type": "code",
   "execution_count": 50,
   "metadata": {},
   "outputs": [],
   "source": [
    "df['GRV'] = calculate_grv(df['Thick [m]'], df['Area [km2]'])"
   ]
  },
  {
   "cell_type": "markdown",
   "metadata": {},
   "source": [
    "We could also compute a distribution for each row in the dataframe:"
   ]
  },
  {
   "cell_type": "code",
   "execution_count": 51,
   "metadata": {},
   "outputs": [
    {
     "data": {
      "text/plain": [
       "Index(['Index', 'Name', 'Thick [m]', 'Area [km2]', 'GeomFactor', 'N:G', 'phi',\n",
       "       'So', 'Bo', 'GRV'],\n",
       "      dtype='object')"
      ]
     },
     "execution_count": 51,
     "metadata": {},
     "output_type": "execute_result"
    }
   ],
   "source": [
    "df.columns"
   ]
  },
  {
   "cell_type": "code",
   "execution_count": 52,
   "metadata": {},
   "outputs": [],
   "source": [
    "def wrapper(row):\n",
    "    _, name, thick, area, g, netg, por, s_o, fvf, grv = row\n",
    "    area *= 1000000\n",
    "    return calculate_hcip(area, thick, g, por, netg, s_o, fvf)"
   ]
  },
  {
   "cell_type": "code",
   "execution_count": 53,
   "metadata": {
    "scrolled": true
   },
   "outputs": [
    {
     "data": {
      "text/plain": [
       "0     1.329008e+08\n",
       "1     2.132697e+08\n",
       "2     1.500345e+07\n",
       "3     2.105367e+05\n",
       "4     6.325627e+07\n",
       "5     9.737593e+06\n",
       "6     4.330318e+07\n",
       "7     8.454287e+05\n",
       "8     9.572856e+06\n",
       "9     9.578398e+07\n",
       "10    2.642014e+07\n",
       "11    7.808704e+07\n",
       "12    2.527927e+07\n",
       "13    6.229452e+05\n",
       "14    4.130222e+07\n",
       "15    3.160981e+07\n",
       "16    4.386205e+08\n",
       "17    1.073283e+07\n",
       "18    7.757953e+07\n",
       "19    6.369744e+05\n",
       "20    1.056212e+08\n",
       "21    2.337172e+05\n",
       "22    3.798761e+07\n",
       "23    2.165674e+07\n",
       "24    4.902495e+06\n",
       "25    6.599424e+07\n",
       "26    2.797774e+07\n",
       "27    1.288899e+07\n",
       "28    1.970615e+04\n",
       "29    1.169186e+07\n",
       "          ...     \n",
       "70    7.135087e+07\n",
       "71    1.770857e+06\n",
       "72    1.481402e+08\n",
       "73    8.469984e+07\n",
       "74    4.136828e+07\n",
       "75    3.550138e+07\n",
       "76    1.402636e+07\n",
       "77    9.925731e+07\n",
       "78    1.510572e+07\n",
       "79    1.403108e+06\n",
       "80    1.547575e+08\n",
       "81    1.104862e+06\n",
       "82    9.666552e+06\n",
       "83    1.474786e+07\n",
       "84    1.061232e+07\n",
       "85    2.204362e+08\n",
       "86    6.818699e+07\n",
       "87    8.526099e+06\n",
       "88    1.530614e+07\n",
       "89    9.038836e+07\n",
       "90    5.237265e+07\n",
       "91    2.708654e+07\n",
       "92    7.940362e+05\n",
       "93    4.906757e+06\n",
       "94    0.000000e+00\n",
       "95    6.398829e+07\n",
       "96    3.372949e+07\n",
       "97    4.277875e+07\n",
       "98    1.569610e+05\n",
       "99    1.994495e+06\n",
       "Length: 100, dtype: float64"
      ]
     },
     "execution_count": 53,
     "metadata": {},
     "output_type": "execute_result"
    }
   ],
   "source": [
    "df.apply(wrapper, axis=1)"
   ]
  },
  {
   "cell_type": "code",
   "execution_count": 54,
   "metadata": {},
   "outputs": [],
   "source": [
    "df['HCIP'] = df.apply(wrapper, axis=1)"
   ]
  },
  {
   "cell_type": "code",
   "execution_count": 55,
   "metadata": {},
   "outputs": [
    {
     "data": {
      "text/html": [
       "<div>\n",
       "<style scoped>\n",
       "    .dataframe tbody tr th:only-of-type {\n",
       "        vertical-align: middle;\n",
       "    }\n",
       "\n",
       "    .dataframe tbody tr th {\n",
       "        vertical-align: top;\n",
       "    }\n",
       "\n",
       "    .dataframe thead th {\n",
       "        text-align: right;\n",
       "    }\n",
       "</style>\n",
       "<table border=\"1\" class=\"dataframe\">\n",
       "  <thead>\n",
       "    <tr style=\"text-align: right;\">\n",
       "      <th></th>\n",
       "      <th>Index</th>\n",
       "      <th>Name</th>\n",
       "      <th>Thick [m]</th>\n",
       "      <th>Area [km2]</th>\n",
       "      <th>GeomFactor</th>\n",
       "      <th>N:G</th>\n",
       "      <th>phi</th>\n",
       "      <th>So</th>\n",
       "      <th>Bo</th>\n",
       "      <th>GRV</th>\n",
       "      <th>HCIP</th>\n",
       "    </tr>\n",
       "  </thead>\n",
       "  <tbody>\n",
       "    <tr>\n",
       "      <th>0</th>\n",
       "      <td>0</td>\n",
       "      <td>Prospect_1</td>\n",
       "      <td>173</td>\n",
       "      <td>65.714854</td>\n",
       "      <td>0.73</td>\n",
       "      <td>0.26</td>\n",
       "      <td>0.150557</td>\n",
       "      <td>0.45</td>\n",
       "      <td>1.10</td>\n",
       "      <td>11368.669716</td>\n",
       "      <td>1.329008e+08</td>\n",
       "    </tr>\n",
       "    <tr>\n",
       "      <th>1</th>\n",
       "      <td>1</td>\n",
       "      <td>Prospect_2</td>\n",
       "      <td>410</td>\n",
       "      <td>40.684869</td>\n",
       "      <td>0.43</td>\n",
       "      <td>0.59</td>\n",
       "      <td>0.163122</td>\n",
       "      <td>0.38</td>\n",
       "      <td>1.23</td>\n",
       "      <td>16680.796315</td>\n",
       "      <td>2.132697e+08</td>\n",
       "    </tr>\n",
       "    <tr>\n",
       "      <th>2</th>\n",
       "      <td>2</td>\n",
       "      <td>Prospect_3</td>\n",
       "      <td>160</td>\n",
       "      <td>13.883810</td>\n",
       "      <td>0.55</td>\n",
       "      <td>0.16</td>\n",
       "      <td>0.167810</td>\n",
       "      <td>0.59</td>\n",
       "      <td>1.29</td>\n",
       "      <td>2221.409646</td>\n",
       "      <td>1.500345e+07</td>\n",
       "    </tr>\n",
       "    <tr>\n",
       "      <th>3</th>\n",
       "      <td>3</td>\n",
       "      <td>Prospect_4</td>\n",
       "      <td>11</td>\n",
       "      <td>5.572679</td>\n",
       "      <td>0.67</td>\n",
       "      <td>0.12</td>\n",
       "      <td>0.176766</td>\n",
       "      <td>0.29</td>\n",
       "      <td>1.20</td>\n",
       "      <td>61.299472</td>\n",
       "      <td>2.105367e+05</td>\n",
       "    </tr>\n",
       "    <tr>\n",
       "      <th>4</th>\n",
       "      <td>4</td>\n",
       "      <td>Prospect_5</td>\n",
       "      <td>257</td>\n",
       "      <td>49.995814</td>\n",
       "      <td>0.81</td>\n",
       "      <td>0.31</td>\n",
       "      <td>0.179255</td>\n",
       "      <td>0.14</td>\n",
       "      <td>1.28</td>\n",
       "      <td>12848.924267</td>\n",
       "      <td>6.325627e+07</td>\n",
       "    </tr>\n",
       "  </tbody>\n",
       "</table>\n",
       "</div>"
      ],
      "text/plain": [
       "   Index        Name  Thick [m]  Area [km2]  GeomFactor   N:G       phi    So  \\\n",
       "0      0  Prospect_1        173   65.714854        0.73  0.26  0.150557  0.45   \n",
       "1      1  Prospect_2        410   40.684869        0.43  0.59  0.163122  0.38   \n",
       "2      2  Prospect_3        160   13.883810        0.55  0.16  0.167810  0.59   \n",
       "3      3  Prospect_4         11    5.572679        0.67  0.12  0.176766  0.29   \n",
       "4      4  Prospect_5        257   49.995814        0.81  0.31  0.179255  0.14   \n",
       "\n",
       "     Bo           GRV          HCIP  \n",
       "0  1.10  11368.669716  1.329008e+08  \n",
       "1  1.23  16680.796315  2.132697e+08  \n",
       "2  1.29   2221.409646  1.500345e+07  \n",
       "3  1.20     61.299472  2.105367e+05  \n",
       "4  1.28  12848.924267  6.325627e+07  "
      ]
     },
     "execution_count": 55,
     "metadata": {},
     "output_type": "execute_result"
    }
   ],
   "source": [
    "df.head()"
   ]
  },
  {
   "cell_type": "markdown",
   "metadata": {
    "collapsed": true
   },
   "source": [
    "<hr />\n",
    "\n",
    "<div>\n",
    "<img src=\"https://avatars1.githubusercontent.com/u/1692321?s=50\"><p style=\"text-align:center\">© Agile Geoscience 2018</p>\n",
    "</div>"
   ]
  }
 ],
 "metadata": {
  "anaconda-cloud": {},
  "celltoolbar": "Tags",
  "kernelspec": {
   "display_name": "Python 3",
   "language": "python",
   "name": "python3"
  },
  "language_info": {
   "codemirror_mode": {
    "name": "ipython",
    "version": 3
   },
   "file_extension": ".py",
   "mimetype": "text/x-python",
   "name": "python",
   "nbconvert_exporter": "python",
   "pygments_lexer": "ipython3",
   "version": "3.6.4"
  }
 },
 "nbformat": 4,
 "nbformat_minor": 1
}
