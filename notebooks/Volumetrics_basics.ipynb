{
 "cells": [
  {
   "cell_type": "markdown",
   "metadata": {},
   "source": [
    "# Volumetrics: HCIP calculation\n",
    "\n",
    "We'll implement the volumetric equation:\n",
    "\n",
    "$$ V = A \\times T \\times G \\times \\phi \\times N\\!\\!:\\!\\!G \\times S_\\mathrm{O} \\times \\frac{1}{B_\\mathrm{O}} $$\n",
    "\n",
    "## Gross rock volume \n",
    "\n",
    "$$ \\mathrm{GRV} = A \\times T $$"
   ]
  },
  {
   "cell_type": "code",
   "execution_count": 8,
   "metadata": {},
   "outputs": [
    {
     "data": {
      "text/plain": [
       "48000000000"
      ]
     },
     "execution_count": 8,
     "metadata": {},
     "output_type": "execute_result"
    }
   ],
   "source": [
    "thick = 80            # metres\n",
    "area = 20000 * 30000  # metres\n",
    "\n",
    "grv = thick * area\n",
    "grv"
   ]
  },
  {
   "cell_type": "markdown",
   "metadata": {},
   "source": [
    "Let's make a **function** that computes the GRV:"
   ]
  },
  {
   "cell_type": "code",
   "execution_count": 14,
   "metadata": {},
   "outputs": [],
   "source": [
    "def calculate_grv(thickness, area):\n",
    "    return thickness * area"
   ]
  },
  {
   "cell_type": "markdown",
   "metadata": {},
   "source": [
    "Now we can just call this function, instead of remembering the equation. (Admittedly, the equation is rather easy to remember in this case!)"
   ]
  },
  {
   "cell_type": "code",
   "execution_count": 15,
   "metadata": {},
   "outputs": [
    {
     "data": {
      "text/plain": [
       "48000000000"
      ]
     },
     "execution_count": 15,
     "metadata": {},
     "output_type": "execute_result"
    }
   ],
   "source": [
    "calculate_grv(thick, area)"
   ]
  },
  {
   "cell_type": "markdown",
   "metadata": {},
   "source": [
    "It works!\n",
    "\n",
    "Now we need to compensate for the prospect not being a flat slab of rock &mdash; using the geometric factor. \n",
    "\n",
    "We will implement the equations implied by this diagram:"
   ]
  },
  {
   "cell_type": "markdown",
   "metadata": {
    "scrolled": true
   },
   "source": [
    "<img src=\"http://subsurfwiki.org/images/6/66/Geometric_correction_factor.png\", width=600>"
   ]
  },
  {
   "cell_type": "code",
   "execution_count": 18,
   "metadata": {},
   "outputs": [
    {
     "name": "stdout",
     "output_type": "stream",
     "text": [
      "What shape is the prospect? flat\n"
     ]
    }
   ],
   "source": [
    "top = input(\"What shape is the prospect? \")"
   ]
  },
  {
   "cell_type": "code",
   "execution_count": 16,
   "metadata": {},
   "outputs": [
    {
     "data": {
      "text/plain": [
       "1"
      ]
     },
     "execution_count": 16,
     "metadata": {},
     "output_type": "execute_result"
    }
   ],
   "source": [
    "height = 100\n",
    "ratio = thick / height\n",
    "\n",
    "if top == 'round':\n",
    "    g = -0.6 * ratio + 1\n",
    "\n",
    "if top == 'flat':\n",
    "    g = -0.3 * ratio + 1\n",
    "\n",
    "if top == 'slab':\n",
    "    g = 1\n",
    "\n",
    "g"
   ]
  },
  {
   "cell_type": "code",
   "execution_count": 9,
   "metadata": {},
   "outputs": [
    {
     "data": {
      "text/plain": [
       "1"
      ]
     },
     "execution_count": 9,
     "metadata": {},
     "output_type": "execute_result"
    }
   ],
   "source": [
    "height = 100\n",
    "ratio = thick / height\n",
    "\n",
    "if top == 'round':\n",
    "    g = -0.6 * ratio + 1\n",
    "elif top == 'flat':\n",
    "    g = -0.3 * ratio + 1\n",
    "else:\n",
    "    g = 1\n",
    "\n",
    "g"
   ]
  },
  {
   "cell_type": "markdown",
   "metadata": {},
   "source": [
    "Let's turn this one into a function too. It's a little trickier:"
   ]
  },
  {
   "cell_type": "code",
   "execution_count": 20,
   "metadata": {},
   "outputs": [],
   "source": [
    "def geometric_factor(thick, height, top='slab'):\n",
    "\n",
    "    ratio = thick / height\n",
    "\n",
    "    if top == 'round':\n",
    "        g = -0.6 * ratio + 1\n",
    "    elif top == 'flat':\n",
    "        g = -0.3 * ratio + 1\n",
    "    else:\n",
    "        g = 1\n",
    "\n",
    "    return g"
   ]
  },
  {
   "cell_type": "code",
   "execution_count": 21,
   "metadata": {},
   "outputs": [
    {
     "data": {
      "text/plain": [
       "0.52"
      ]
     },
     "execution_count": 21,
     "metadata": {},
     "output_type": "execute_result"
    }
   ],
   "source": [
    "geometric_factor(thick, height=100, top='round')"
   ]
  },
  {
   "cell_type": "code",
   "execution_count": 22,
   "metadata": {},
   "outputs": [],
   "source": [
    "grv *= g"
   ]
  },
  {
   "cell_type": "markdown",
   "metadata": {},
   "source": [
    "What if we have multiple prospects?"
   ]
  },
  {
   "cell_type": "code",
   "execution_count": 25,
   "metadata": {},
   "outputs": [],
   "source": [
    "import numpy as np\n",
    "\n",
    "thicknesses = np.array([10, 25, 15, 5, 100])\n",
    "heights = np.array([75, 100, 20, 100, 200])"
   ]
  },
  {
   "cell_type": "code",
   "execution_count": 26,
   "metadata": {},
   "outputs": [
    {
     "data": {
      "text/plain": [
       "array([0.92, 0.85, 0.55, 0.97, 0.7 ])"
      ]
     },
     "execution_count": 26,
     "metadata": {},
     "output_type": "execute_result"
    }
   ],
   "source": [
    "geometric_factor(thicknesses, heights, top='round')"
   ]
  },
  {
   "cell_type": "markdown",
   "metadata": {},
   "source": [
    "## HC pore volume\n",
    "\n",
    "We need:\n",
    "\n",
    "- net:gross &mdash; the ratio of reservoir-quality rock thickness to the total thickness of the interval.\n",
    "- porosity\n",
    "- $S_\\mathrm{O}$ &mdash; the oil saturation, or proportion of oil to total pore fluid."
   ]
  },
  {
   "cell_type": "code",
   "execution_count": 27,
   "metadata": {},
   "outputs": [],
   "source": [
    "netg = 0.5   # fraction\n",
    "por = 0.24   # fraction\n",
    "s_o = 0.8    # fraction\n",
    "\n",
    "hcpv = netg * por * s_o"
   ]
  },
  {
   "cell_type": "markdown",
   "metadata": {},
   "source": [
    "### EXERCISE\n",
    "\n",
    "Turn this into a function by rearranging the following lines of code:\n",
    "\n",
    "- `\"\"\"A function to compute the hydrocarbon pore volume.\"\"\"`\n",
    "- `return hcpv`\n",
    "- `hcpv = netg * por * s_o`\n",
    "- `def calculate_hcpv(netg, por, s_o):`\n"
   ]
  },
  {
   "cell_type": "code",
   "execution_count": 13,
   "metadata": {},
   "outputs": [],
   "source": [
    "# Put your code here:\n",
    "\n"
   ]
  },
  {
   "cell_type": "markdown",
   "metadata": {},
   "source": [
    "## Formation volume factor\n",
    "\n",
    "Oil shrinks when we produce it, especially if it has high GOR. The FVF, or $B_O$, is the ratio of a reservoir barrel to a stock-tank barrel (25 deg C and 1 atm). Typically the FVF is between 1 (heavy oil) and 1.7 (high GOR)."
   ]
  },
  {
   "cell_type": "code",
   "execution_count": 6,
   "metadata": {
    "collapsed": true
   },
   "outputs": [],
   "source": [
    "fvf = 1.1"
   ]
  },
  {
   "cell_type": "markdown",
   "metadata": {},
   "source": [
    "### EXERCISE\n",
    "\n",
    "For gas, $B_\\mathrm{G}$ is $0.35 Z T / P$, where $Z$ is the correction factor, or gas compressibility factor. $T$ should be in kelvin and $P$ in kPa. $Z$ is usually between 0.8 and 1.2, but it can be as low as 0.3 and as high as 2.0.\n",
    "\n",
    "Can you write a function to calculate $B_\\mathrm{G}$?"
   ]
  },
  {
   "cell_type": "code",
   "execution_count": null,
   "metadata": {},
   "outputs": [],
   "source": [
    "def calculate_Bg(     ):  # Add the arguments.\n",
    "    \"\"\"Write a docstring.\"\"\"\n",
    "    \n",
    "    \n",
    "    return         # Don't forget to return something!"
   ]
  },
  {
   "cell_type": "markdown",
   "metadata": {},
   "source": [
    "## Put it all together\n",
    "\n",
    "Now we have the components of the volumetric equation:"
   ]
  },
  {
   "cell_type": "code",
   "execution_count": 7,
   "metadata": {},
   "outputs": [
    {
     "data": {
      "text/plain": [
       "4189090909.0909085"
      ]
     },
     "execution_count": 7,
     "metadata": {},
     "output_type": "execute_result"
    }
   ],
   "source": [
    "hcip = grv * hcpv / fvf\n",
    "hcip"
   ]
  },
  {
   "cell_type": "code",
   "execution_count": 8,
   "metadata": {},
   "outputs": [
    {
     "name": "stdout",
     "output_type": "stream",
     "text": [
      "HCIP 4189090909.0909085\n"
     ]
    }
   ],
   "source": [
    "print(\"HCIP\", hcip)"
   ]
  },
  {
   "cell_type": "markdown",
   "metadata": {},
   "source": [
    "[For more on conversion to bbl, BOE, etc.](https://en.wikipedia.org/wiki/Barrel_of_oil_equivalent)"
   ]
  },
  {
   "cell_type": "code",
   "execution_count": 9,
   "metadata": {},
   "outputs": [
    {
     "name": "stdout",
     "output_type": "stream",
     "text": [
      "HCIP is 4189 Mm³ or 26349 million bbl\n"
     ]
    }
   ],
   "source": [
    "print(\"HCIP is {:.0f} Mm³ or {:.0f} million bbl\".format(hcip/1000000, 6.29*hcip/1000000))"
   ]
  },
  {
   "cell_type": "markdown",
   "metadata": {},
   "source": [
    "### EXERCISE\n",
    "\n",
    "Can you write a function to compute the volume (i.e. the HCIP), given all the inputs?\n",
    "\n",
    "Try to use the functions you have already written."
   ]
  },
  {
   "cell_type": "code",
   "execution_count": null,
   "metadata": {},
   "outputs": [],
   "source": [
    "# Put your code here.\n",
    "\n",
    "\n",
    "    "
   ]
  },
  {
   "cell_type": "markdown",
   "metadata": {},
   "source": [
    "## Monte Carlo simulation\n",
    "\n",
    "We can easily draw randomly from distributions of properties:\n",
    "\n",
    "- Normal: https://docs.scipy.org/doc/numpy/reference/generated/numpy.random.normal.html\n",
    "- Uniform: https://docs.scipy.org/doc/numpy/reference/generated/numpy.random.uniform.html\n",
    "- Lognormal: https://docs.scipy.org/doc/numpy/reference/generated/numpy.random.lognormal.html"
   ]
  },
  {
   "cell_type": "code",
   "execution_count": 46,
   "metadata": {},
   "outputs": [],
   "source": [
    "import numpy as np\n",
    "\n",
    "netg = np.random.normal(loc=0.5, scale=0.1, size=100)\n",
    "por = np.random.lognormal(mean=0.15, sigma=0.025, size=100)"
   ]
  },
  {
   "cell_type": "code",
   "execution_count": 47,
   "metadata": {},
   "outputs": [],
   "source": [
    "hcpv = netg * por * s_o"
   ]
  },
  {
   "cell_type": "code",
   "execution_count": 48,
   "metadata": {},
   "outputs": [
    {
     "data": {
      "text/plain": [
       "array([0.34207901, 0.44922794, 0.5230515 , 0.33168702, 0.57537444,\n",
       "       0.59329293, 0.34098174, 0.39793548, 0.52119891, 0.50588524,\n",
       "       0.42583109, 0.57681858, 0.33385965, 0.46381485, 0.29874255,\n",
       "       0.48302231, 0.34933804, 0.38560419, 0.5167434 , 0.55253377,\n",
       "       0.54171761, 0.44989615, 0.53506997, 0.37054434, 0.43083906,\n",
       "       0.58271728, 0.53261128, 0.29959807, 0.6913548 , 0.42874087,\n",
       "       0.33824603, 0.59356226, 0.42235059, 0.37989099, 0.41236818,\n",
       "       0.5317952 , 0.41774144, 0.40439426, 0.28523085, 0.49897484,\n",
       "       0.48415027, 0.37891409, 0.58925115, 0.50529969, 0.40160119,\n",
       "       0.4842298 , 0.4408639 , 0.67590648, 0.29293195, 0.5067584 ,\n",
       "       0.53525896, 0.52536082, 0.35433117, 0.40531389, 0.53672415,\n",
       "       0.42924455, 0.56372125, 0.5154091 , 0.54900051, 0.47074584,\n",
       "       0.32407623, 0.42259994, 0.39926713, 0.46482868, 0.4327306 ,\n",
       "       0.45984906, 0.62414625, 0.51282734, 0.47865062, 0.29474078,\n",
       "       0.60939628, 0.50038906, 0.46371669, 0.41039558, 0.27741445,\n",
       "       0.62458742, 0.42306929, 0.53797006, 0.35726526, 0.43389063,\n",
       "       0.43805391, 0.53701719, 0.49085027, 0.54401727, 0.37487446,\n",
       "       0.41590484, 0.34624306, 0.35398117, 0.3907712 , 0.47334956,\n",
       "       0.49951194, 0.34980446, 0.52225086, 0.47000466, 0.57923682,\n",
       "       0.53435063, 0.57624283, 0.33358254, 0.4408968 , 0.45042401])"
      ]
     },
     "execution_count": 48,
     "metadata": {},
     "output_type": "execute_result"
    }
   ],
   "source": [
    "hcpv"
   ]
  },
  {
   "cell_type": "code",
   "execution_count": 49,
   "metadata": {},
   "outputs": [
    {
     "data": {
      "image/png": "[encoded data removed]",
      "text/plain": [
       "<matplotlib.figure.Figure at 0x7fe516be1860>"
      ]
     },
     "metadata": {},
     "output_type": "display_data"
    }
   ],
   "source": [
    "%matplotlib inline\n",
    "import matplotlib.pyplot as plt\n",
    "\n",
    "_ = plt.hist(hcpv, bins=20)"
   ]
  },
  {
   "cell_type": "markdown",
   "metadata": {},
   "source": [
    "The histogram looks a bit ragged, but this is probably because of the relatively small number of samples."
   ]
  },
  {
   "cell_type": "markdown",
   "metadata": {},
   "source": [
    "### EXERCISE\n",
    "\n",
    "1. How does the histogram look if you take 1000 samples instead of 100?\n",
    "1. Make distributions for some of the other properties, like thickness and FVF.\n",
    "1. Maybe our functions should check that we don't get unreasonable values, like negative numbers, or decimal fractions over 1.0 Try to implement this if you have time."
   ]
  },
  {
   "cell_type": "markdown",
   "metadata": {},
   "source": [
    "# Reading data from a file\n",
    "\n",
    "Let's try reading data from a CSV."
   ]
  },
  {
   "cell_type": "code",
   "execution_count": 11,
   "metadata": {
    "collapsed": true
   },
   "outputs": [],
   "source": []
  },
  {
   "cell_type": "code",
   "execution_count": 12,
   "metadata": {
    "collapsed": true
   },
   "outputs": [],
   "source": []
  },
  {
   "cell_type": "code",
   "execution_count": null,
   "metadata": {},
   "outputs": [],
   "source": []
  },
  {
   "cell_type": "code",
   "execution_count": null,
   "metadata": {},
   "outputs": [],
   "source": []
  },
  {
   "cell_type": "markdown",
   "metadata": {},
   "source": [
    "## Using `pandas`"
   ]
  },
  {
   "cell_type": "code",
   "execution_count": 18,
   "metadata": {
    "collapsed": true
   },
   "outputs": [],
   "source": []
  },
  {
   "cell_type": "code",
   "execution_count": null,
   "metadata": {},
   "outputs": [],
   "source": [
    "\n"
   ]
  },
  {
   "cell_type": "code",
   "execution_count": null,
   "metadata": {},
   "outputs": [],
   "source": []
  },
  {
   "cell_type": "markdown",
   "metadata": {
    "collapsed": true
   },
   "source": [
    "<hr />\n",
    "\n",
    "<div>\n",
    "<img src=\"https://avatars1.githubusercontent.com/u/1692321?s=50\"><p style=\"text-align:center\">© Agile Geoscience 2016</p>\n",
    "</div>"
   ]
  }
 ],
 "metadata": {
  "anaconda-cloud": {},
  "kernelspec": {
   "display_name": "Python 3",
   "language": "python",
   "name": "python3"
  },
  "language_info": {
   "codemirror_mode": {
    "name": "ipython",
    "version": 3
   },
   "file_extension": ".py",
   "mimetype": "text/x-python",
   "name": "python",
   "nbconvert_exporter": "python",
   "pygments_lexer": "ipython3",
   "version": "3.6.4"
  }
 },
 "nbformat": 4,
 "nbformat_minor": 1
}
